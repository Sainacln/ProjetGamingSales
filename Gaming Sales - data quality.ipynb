{
 "cells": [
  {
   "cell_type": "markdown",
   "id": "28d74f6a",
   "metadata": {},
   "source": [
    "## 1. Importation des modules"
   ]
  },
  {
   "cell_type": "code",
   "execution_count": 1,
   "id": "13e2b9c4",
   "metadata": {
    "scrolled": true
   },
   "outputs": [],
   "source": [
    "import pandas as pd\n",
    "import numpy as np\n",
    "import seaborn as sns\n",
    "from scipy.stats import pearsonr\n",
    "import statsmodels.api\n",
    "from scipy.stats import chi2_contingency\n",
    "%matplotlib inline\n",
    "import matplotlib.pyplot as plt"
   ]
  },
  {
   "cell_type": "markdown",
   "id": "1a60da6f",
   "metadata": {},
   "source": [
    "## 2. Importation des données"
   ]
  },
  {
   "cell_type": "code",
   "execution_count": 2,
   "id": "89ebfcd9",
   "metadata": {
    "scrolled": true
   },
   "outputs": [
    {
     "data": {
      "text/html": [
       "<div>\n",
       "<style scoped>\n",
       "    .dataframe tbody tr th:only-of-type {\n",
       "        vertical-align: middle;\n",
       "    }\n",
       "\n",
       "    .dataframe tbody tr th {\n",
       "        vertical-align: top;\n",
       "    }\n",
       "\n",
       "    .dataframe thead th {\n",
       "        text-align: right;\n",
       "    }\n",
       "</style>\n",
       "<table border=\"1\" class=\"dataframe\">\n",
       "  <thead>\n",
       "    <tr style=\"text-align: right;\">\n",
       "      <th></th>\n",
       "      <th>Rank</th>\n",
       "      <th>Name</th>\n",
       "      <th>Platform</th>\n",
       "      <th>Year</th>\n",
       "      <th>Genre</th>\n",
       "      <th>Publisher</th>\n",
       "      <th>NA_Sales</th>\n",
       "      <th>EU_Sales</th>\n",
       "      <th>JP_Sales</th>\n",
       "      <th>Other_Sales</th>\n",
       "      <th>Global_Sales</th>\n",
       "    </tr>\n",
       "  </thead>\n",
       "  <tbody>\n",
       "    <tr>\n",
       "      <th>0</th>\n",
       "      <td>1</td>\n",
       "      <td>Wii Sports</td>\n",
       "      <td>Wii</td>\n",
       "      <td>2006.0</td>\n",
       "      <td>Sports</td>\n",
       "      <td>Nintendo</td>\n",
       "      <td>41.49</td>\n",
       "      <td>29.02</td>\n",
       "      <td>3.77</td>\n",
       "      <td>8.46</td>\n",
       "      <td>82.74</td>\n",
       "    </tr>\n",
       "    <tr>\n",
       "      <th>1</th>\n",
       "      <td>2</td>\n",
       "      <td>Super Mario Bros.</td>\n",
       "      <td>NES</td>\n",
       "      <td>1985.0</td>\n",
       "      <td>Platform</td>\n",
       "      <td>Nintendo</td>\n",
       "      <td>29.08</td>\n",
       "      <td>3.58</td>\n",
       "      <td>6.81</td>\n",
       "      <td>0.77</td>\n",
       "      <td>40.24</td>\n",
       "    </tr>\n",
       "    <tr>\n",
       "      <th>2</th>\n",
       "      <td>3</td>\n",
       "      <td>Mario Kart Wii</td>\n",
       "      <td>Wii</td>\n",
       "      <td>2008.0</td>\n",
       "      <td>Racing</td>\n",
       "      <td>Nintendo</td>\n",
       "      <td>15.85</td>\n",
       "      <td>12.88</td>\n",
       "      <td>3.79</td>\n",
       "      <td>3.31</td>\n",
       "      <td>35.82</td>\n",
       "    </tr>\n",
       "    <tr>\n",
       "      <th>3</th>\n",
       "      <td>4</td>\n",
       "      <td>Wii Sports Resort</td>\n",
       "      <td>Wii</td>\n",
       "      <td>2009.0</td>\n",
       "      <td>Sports</td>\n",
       "      <td>Nintendo</td>\n",
       "      <td>15.75</td>\n",
       "      <td>11.01</td>\n",
       "      <td>3.28</td>\n",
       "      <td>2.96</td>\n",
       "      <td>33.00</td>\n",
       "    </tr>\n",
       "    <tr>\n",
       "      <th>4</th>\n",
       "      <td>5</td>\n",
       "      <td>Pokemon Red/Pokemon Blue</td>\n",
       "      <td>GB</td>\n",
       "      <td>1996.0</td>\n",
       "      <td>Role-Playing</td>\n",
       "      <td>Nintendo</td>\n",
       "      <td>11.27</td>\n",
       "      <td>8.89</td>\n",
       "      <td>10.22</td>\n",
       "      <td>1.00</td>\n",
       "      <td>31.37</td>\n",
       "    </tr>\n",
       "    <tr>\n",
       "      <th>...</th>\n",
       "      <td>...</td>\n",
       "      <td>...</td>\n",
       "      <td>...</td>\n",
       "      <td>...</td>\n",
       "      <td>...</td>\n",
       "      <td>...</td>\n",
       "      <td>...</td>\n",
       "      <td>...</td>\n",
       "      <td>...</td>\n",
       "      <td>...</td>\n",
       "      <td>...</td>\n",
       "    </tr>\n",
       "    <tr>\n",
       "      <th>16593</th>\n",
       "      <td>16596</td>\n",
       "      <td>Woody Woodpecker in Crazy Castle 5</td>\n",
       "      <td>GBA</td>\n",
       "      <td>2002.0</td>\n",
       "      <td>Platform</td>\n",
       "      <td>Kemco</td>\n",
       "      <td>0.01</td>\n",
       "      <td>0.00</td>\n",
       "      <td>0.00</td>\n",
       "      <td>0.00</td>\n",
       "      <td>0.01</td>\n",
       "    </tr>\n",
       "    <tr>\n",
       "      <th>16594</th>\n",
       "      <td>16597</td>\n",
       "      <td>Men in Black II: Alien Escape</td>\n",
       "      <td>GC</td>\n",
       "      <td>2003.0</td>\n",
       "      <td>Shooter</td>\n",
       "      <td>Infogrames</td>\n",
       "      <td>0.01</td>\n",
       "      <td>0.00</td>\n",
       "      <td>0.00</td>\n",
       "      <td>0.00</td>\n",
       "      <td>0.01</td>\n",
       "    </tr>\n",
       "    <tr>\n",
       "      <th>16595</th>\n",
       "      <td>16598</td>\n",
       "      <td>SCORE International Baja 1000: The Official Game</td>\n",
       "      <td>PS2</td>\n",
       "      <td>2008.0</td>\n",
       "      <td>Racing</td>\n",
       "      <td>Activision</td>\n",
       "      <td>0.00</td>\n",
       "      <td>0.00</td>\n",
       "      <td>0.00</td>\n",
       "      <td>0.00</td>\n",
       "      <td>0.01</td>\n",
       "    </tr>\n",
       "    <tr>\n",
       "      <th>16596</th>\n",
       "      <td>16599</td>\n",
       "      <td>Know How 2</td>\n",
       "      <td>DS</td>\n",
       "      <td>2010.0</td>\n",
       "      <td>Puzzle</td>\n",
       "      <td>7G//AMES</td>\n",
       "      <td>0.00</td>\n",
       "      <td>0.01</td>\n",
       "      <td>0.00</td>\n",
       "      <td>0.00</td>\n",
       "      <td>0.01</td>\n",
       "    </tr>\n",
       "    <tr>\n",
       "      <th>16597</th>\n",
       "      <td>16600</td>\n",
       "      <td>Spirits &amp; Spells</td>\n",
       "      <td>GBA</td>\n",
       "      <td>2003.0</td>\n",
       "      <td>Platform</td>\n",
       "      <td>Wanadoo</td>\n",
       "      <td>0.01</td>\n",
       "      <td>0.00</td>\n",
       "      <td>0.00</td>\n",
       "      <td>0.00</td>\n",
       "      <td>0.01</td>\n",
       "    </tr>\n",
       "  </tbody>\n",
       "</table>\n",
       "<p>16598 rows × 11 columns</p>\n",
       "</div>"
      ],
      "text/plain": [
       "        Rank                                              Name Platform  \\\n",
       "0          1                                        Wii Sports      Wii   \n",
       "1          2                                 Super Mario Bros.      NES   \n",
       "2          3                                    Mario Kart Wii      Wii   \n",
       "3          4                                 Wii Sports Resort      Wii   \n",
       "4          5                          Pokemon Red/Pokemon Blue       GB   \n",
       "...      ...                                               ...      ...   \n",
       "16593  16596                Woody Woodpecker in Crazy Castle 5      GBA   \n",
       "16594  16597                     Men in Black II: Alien Escape       GC   \n",
       "16595  16598  SCORE International Baja 1000: The Official Game      PS2   \n",
       "16596  16599                                        Know How 2       DS   \n",
       "16597  16600                                  Spirits & Spells      GBA   \n",
       "\n",
       "         Year         Genre   Publisher  NA_Sales  EU_Sales  JP_Sales  \\\n",
       "0      2006.0        Sports    Nintendo     41.49     29.02      3.77   \n",
       "1      1985.0      Platform    Nintendo     29.08      3.58      6.81   \n",
       "2      2008.0        Racing    Nintendo     15.85     12.88      3.79   \n",
       "3      2009.0        Sports    Nintendo     15.75     11.01      3.28   \n",
       "4      1996.0  Role-Playing    Nintendo     11.27      8.89     10.22   \n",
       "...       ...           ...         ...       ...       ...       ...   \n",
       "16593  2002.0      Platform       Kemco      0.01      0.00      0.00   \n",
       "16594  2003.0       Shooter  Infogrames      0.01      0.00      0.00   \n",
       "16595  2008.0        Racing  Activision      0.00      0.00      0.00   \n",
       "16596  2010.0        Puzzle    7G//AMES      0.00      0.01      0.00   \n",
       "16597  2003.0      Platform     Wanadoo      0.01      0.00      0.00   \n",
       "\n",
       "       Other_Sales  Global_Sales  \n",
       "0             8.46         82.74  \n",
       "1             0.77         40.24  \n",
       "2             3.31         35.82  \n",
       "3             2.96         33.00  \n",
       "4             1.00         31.37  \n",
       "...            ...           ...  \n",
       "16593         0.00          0.01  \n",
       "16594         0.00          0.01  \n",
       "16595         0.00          0.01  \n",
       "16596         0.00          0.01  \n",
       "16597         0.00          0.01  \n",
       "\n",
       "[16598 rows x 11 columns]"
      ]
     },
     "execution_count": 2,
     "metadata": {},
     "output_type": "execute_result"
    }
   ],
   "source": [
    "game_sales=pd.read_csv(\"vgsales.csv\")\n",
    "game_sales"
   ]
  },
  {
   "cell_type": "markdown",
   "id": "05d90ffa",
   "metadata": {},
   "source": [
    "## 3. Affichage des informations du jeu de données"
   ]
  },
  {
   "cell_type": "code",
   "execution_count": 3,
   "id": "8a05eb1d",
   "metadata": {},
   "outputs": [
    {
     "name": "stdout",
     "output_type": "stream",
     "text": [
      "<class 'pandas.core.frame.DataFrame'>\n",
      "RangeIndex: 16598 entries, 0 to 16597\n",
      "Data columns (total 11 columns):\n",
      " #   Column        Non-Null Count  Dtype  \n",
      "---  ------        --------------  -----  \n",
      " 0   Rank          16598 non-null  int64  \n",
      " 1   Name          16598 non-null  object \n",
      " 2   Platform      16598 non-null  object \n",
      " 3   Year          16327 non-null  float64\n",
      " 4   Genre         16598 non-null  object \n",
      " 5   Publisher     16540 non-null  object \n",
      " 6   NA_Sales      16598 non-null  float64\n",
      " 7   EU_Sales      16598 non-null  float64\n",
      " 8   JP_Sales      16598 non-null  float64\n",
      " 9   Other_Sales   16598 non-null  float64\n",
      " 10  Global_Sales  16598 non-null  float64\n",
      "dtypes: float64(6), int64(1), object(4)\n",
      "memory usage: 1.4+ MB\n"
     ]
    }
   ],
   "source": [
    "game_sales.info()"
   ]
  },
  {
   "cell_type": "markdown",
   "id": "b7d5f6c5",
   "metadata": {},
   "source": [
    "## 4. Recherche des données manquantes"
   ]
  },
  {
   "cell_type": "code",
   "execution_count": 4,
   "id": "c8e291d3",
   "metadata": {},
   "outputs": [
    {
     "data": {
      "text/plain": [
       "Rank              0\n",
       "Name              0\n",
       "Platform          0\n",
       "Year            271\n",
       "Genre             0\n",
       "Publisher        58\n",
       "NA_Sales          0\n",
       "EU_Sales          0\n",
       "JP_Sales          0\n",
       "Other_Sales       0\n",
       "Global_Sales      0\n",
       "dtype: int64"
      ]
     },
     "execution_count": 4,
     "metadata": {},
     "output_type": "execute_result"
    }
   ],
   "source": [
    "game_sales.isnull().sum()\n"
   ]
  },
  {
   "cell_type": "markdown",
   "id": "5f2662c1",
   "metadata": {},
   "source": [
    "#### On retrouve 271 données manquantes pour la variable 'Year' et 58 données manquantes pour la varibale 'Publisher'"
   ]
  },
  {
   "cell_type": "markdown",
   "id": "faf59edf",
   "metadata": {},
   "source": [
    "## 5. Affichage des données manquantes en pourcentage"
   ]
  },
  {
   "cell_type": "code",
   "execution_count": 5,
   "id": "035fd1bc",
   "metadata": {},
   "outputs": [
    {
     "data": {
      "text/plain": [
       "Rank            0.000000\n",
       "Name            0.000000\n",
       "Platform        0.000000\n",
       "Year            1.632727\n",
       "Genre           0.000000\n",
       "Publisher       0.349440\n",
       "NA_Sales        0.000000\n",
       "EU_Sales        0.000000\n",
       "JP_Sales        0.000000\n",
       "Other_Sales     0.000000\n",
       "Global_Sales    0.000000\n",
       "dtype: float64"
      ]
     },
     "execution_count": 5,
     "metadata": {},
     "output_type": "execute_result"
    }
   ],
   "source": [
    "game_sales.isnull().mean()*100"
   ]
  },
  {
   "cell_type": "markdown",
   "id": "bb003c4a",
   "metadata": {},
   "source": [
    "####  Le pourcentage des données manquantes de 'Year' est de 1,63 % et de 0,34% pour 'Publisher' pour 16598 entrées. Nous avons décidé de supprimer les données manquantes de 'Publisher' et de remplacer les données manquantes de 'Year' par la valeur la plus fréquente."
   ]
  },
  {
   "cell_type": "markdown",
   "id": "995d1ce7",
   "metadata": {},
   "source": [
    "## 6. Representation graphique des valeurs manquantes"
   ]
  },
  {
   "cell_type": "code",
   "execution_count": 6,
   "id": "34a57583",
   "metadata": {},
   "outputs": [
    {
     "data": {
      "image/png": "[encoded data removed]",
      "text/plain": [
       "<Figure size 432x288 with 1 Axes>"
      ]
     },
     "metadata": {
      "needs_background": "light"
     },
     "output_type": "display_data"
    }
   ],
   "source": [
    "variables = [\"Publisher\",\"Year\"]\n",
    "vm = [58,271]\n",
    "plt.bar(variables,vm,)\n",
    "plt.xlabel(\"variables\")\n",
    "plt.ylabel(\"nombre de valeurs manquantes\")\n",
    "plt.title(\"La représentation graphique des valeurs manquantes\");"
   ]
  },
  {
   "cell_type": "markdown",
   "id": "1b5aefbd",
   "metadata": {},
   "source": [
    "## 7.Suppression des données manquantes de la variable 'Publisher'"
   ]
  },
  {
   "cell_type": "code",
   "execution_count": 7,
   "id": "d4dd6786",
   "metadata": {},
   "outputs": [],
   "source": [
    "game_sales=game_sales.dropna(subset=[\"Publisher\"])\n"
   ]
  },
  {
   "cell_type": "code",
   "execution_count": 8,
   "id": "c0b98b2f",
   "metadata": {},
   "outputs": [
    {
     "data": {
      "text/plain": [
       "Rank              0\n",
       "Name              0\n",
       "Platform          0\n",
       "Year            249\n",
       "Genre             0\n",
       "Publisher         0\n",
       "NA_Sales          0\n",
       "EU_Sales          0\n",
       "JP_Sales          0\n",
       "Other_Sales       0\n",
       "Global_Sales      0\n",
       "dtype: int64"
      ]
     },
     "execution_count": 8,
     "metadata": {},
     "output_type": "execute_result"
    }
   ],
   "source": [
    "game_sales.isnull().sum()"
   ]
  },
  {
   "cell_type": "markdown",
   "id": "4d99ef64",
   "metadata": {},
   "source": [
    "#### Le pourcentage étant très faible, nous avons décidé de supprimer les valeurs manquantes de cette variable."
   ]
  },
  {
   "cell_type": "markdown",
   "id": "180378a9",
   "metadata": {},
   "source": [
    "## 8. Remplacement des données manquantes de la variable 'Year'"
   ]
  },
  {
   "cell_type": "code",
   "execution_count": 9,
   "id": "5058e768",
   "metadata": {},
   "outputs": [
    {
     "name": "stderr",
     "output_type": "stream",
     "text": [
      "C:\\Users\\colin\\anaconda3\\lib\\site-packages\\pandas\\core\\series.py:4463: SettingWithCopyWarning: \n",
      "A value is trying to be set on a copy of a slice from a DataFrame\n",
      "\n",
      "See the caveats in the documentation: https://pandas.pydata.org/pandas-docs/stable/user_guide/indexing.html#returning-a-view-versus-a-copy\n",
      "  return super().fillna(\n"
     ]
    }
   ],
   "source": [
    "game_sales['Year'].fillna(game_sales['Year'].mode()[0],inplace=True)"
   ]
  },
  {
   "cell_type": "code",
   "execution_count": 10,
   "id": "cb5b3a3a",
   "metadata": {},
   "outputs": [
    {
     "data": {
      "text/plain": [
       "Rank            0\n",
       "Name            0\n",
       "Platform        0\n",
       "Year            0\n",
       "Genre           0\n",
       "Publisher       0\n",
       "NA_Sales        0\n",
       "EU_Sales        0\n",
       "JP_Sales        0\n",
       "Other_Sales     0\n",
       "Global_Sales    0\n",
       "dtype: int64"
      ]
     },
     "execution_count": 10,
     "metadata": {},
     "output_type": "execute_result"
    }
   ],
   "source": [
    "game_sales.isnull().sum()"
   ]
  },
  {
   "cell_type": "markdown",
   "id": "1c07242f",
   "metadata": {},
   "source": [
    "#### Le pourcentage de valeurs manquantes étant 5 fois plus élevé, nous pensons qu'il est plus judicieux de les remplacer par la valeur la plus fréquente.\n"
   ]
  },
  {
   "cell_type": "markdown",
   "id": "f1f549f4",
   "metadata": {},
   "source": [
    "## 9. Changement du type de la variable 'Year' en nombre entier. "
   ]
  },
  {
   "cell_type": "code",
   "execution_count": 11,
   "id": "fd3eea7c",
   "metadata": {
    "scrolled": true
   },
   "outputs": [
    {
     "name": "stderr",
     "output_type": "stream",
     "text": [
      "<ipython-input-11-d102116e0e25>:1: SettingWithCopyWarning: \n",
      "A value is trying to be set on a copy of a slice from a DataFrame.\n",
      "Try using .loc[row_indexer,col_indexer] = value instead\n",
      "\n",
      "See the caveats in the documentation: https://pandas.pydata.org/pandas-docs/stable/user_guide/indexing.html#returning-a-view-versus-a-copy\n",
      "  game_sales['Year'] = game_sales['Year'].astype(\"int64\")\n"
     ]
    }
   ],
   "source": [
    "game_sales['Year'] = game_sales['Year'].astype(\"int64\")"
   ]
  },
  {
   "cell_type": "code",
   "execution_count": 12,
   "id": "18eb4745",
   "metadata": {},
   "outputs": [
    {
     "name": "stdout",
     "output_type": "stream",
     "text": [
      "<class 'pandas.core.frame.DataFrame'>\n",
      "Int64Index: 16540 entries, 0 to 16597\n",
      "Data columns (total 11 columns):\n",
      " #   Column        Non-Null Count  Dtype  \n",
      "---  ------        --------------  -----  \n",
      " 0   Rank          16540 non-null  int64  \n",
      " 1   Name          16540 non-null  object \n",
      " 2   Platform      16540 non-null  object \n",
      " 3   Year          16540 non-null  int64  \n",
      " 4   Genre         16540 non-null  object \n",
      " 5   Publisher     16540 non-null  object \n",
      " 6   NA_Sales      16540 non-null  float64\n",
      " 7   EU_Sales      16540 non-null  float64\n",
      " 8   JP_Sales      16540 non-null  float64\n",
      " 9   Other_Sales   16540 non-null  float64\n",
      " 10  Global_Sales  16540 non-null  float64\n",
      "dtypes: float64(5), int64(2), object(4)\n",
      "memory usage: 1.5+ MB\n"
     ]
    }
   ],
   "source": [
    "game_sales.info()"
   ]
  },
  {
   "cell_type": "markdown",
   "id": "ea897dad",
   "metadata": {},
   "source": [
    "## 10.Redéfinition de l'index par la variable 'Rank'"
   ]
  },
  {
   "cell_type": "code",
   "execution_count": 13,
   "id": "43c7834d",
   "metadata": {},
   "outputs": [],
   "source": [
    "game_sales.set_index('Rank',inplace=True)"
   ]
  },
  {
   "cell_type": "markdown",
   "id": "2ed92858",
   "metadata": {},
   "source": [
    "## 11. Regroupement des valeurs de la variable 'Genre'"
   ]
  },
  {
   "cell_type": "code",
   "execution_count": 14,
   "id": "f37aa1f1",
   "metadata": {},
   "outputs": [
    {
     "name": "stdout",
     "output_type": "stream",
     "text": [
      "['Sports' 'Platform' 'Racing' 'Role-Playing' 'Puzzle' 'Misc' 'Shooter'\n",
      " 'Simulation' 'Action' 'Fighting' 'Adventure' 'Strategy']\n"
     ]
    }
   ],
   "source": [
    "print(game_sales[\"Genre\"].unique())"
   ]
  },
  {
   "cell_type": "code",
   "execution_count": 15,
   "id": "3652b38a",
   "metadata": {},
   "outputs": [
    {
     "name": "stdout",
     "output_type": "stream",
     "text": [
      "['Sports' 'Adventure' 'Racing' 'Strategy' 'Misc' 'Action' 'Simulation']\n"
     ]
    },
    {
     "name": "stderr",
     "output_type": "stream",
     "text": [
      "C:\\Users\\colin\\anaconda3\\lib\\site-packages\\pandas\\core\\series.py:4509: SettingWithCopyWarning: \n",
      "A value is trying to be set on a copy of a slice from a DataFrame\n",
      "\n",
      "See the caveats in the documentation: https://pandas.pydata.org/pandas-docs/stable/user_guide/indexing.html#returning-a-view-versus-a-copy\n",
      "  return super().replace(\n"
     ]
    }
   ],
   "source": [
    "game_sales[\"Genre\"].replace({\"Shooter\":\"Action\",\n",
    "                         \"Fighting\":\"Action\",\n",
    "                         \"Puzzle\" : \"Strategy\",\n",
    "                         \"Platform\" : \"Adventure\",\n",
    "                        \"Role-Playing\" : \"Adventure\"}, inplace=True)\n",
    "print(game_sales[\"Genre\"].unique())"
   ]
  },
  {
   "cell_type": "markdown",
   "id": "5d2c1fb5",
   "metadata": {},
   "source": [
    "#### Nous avons décidé de regrouper certaines valeurs qui se ressemblent. Nous considérons les jeux du genre \"shooter\" et \"fighting\" comme des jeux dits \"Action\" ; Les jeux du genre \"puzzle\" comme des jeux de \"Strategy\" et les jeux du genre \"Platform\" comme des jeux dits \"Adventure\"."
   ]
  },
  {
   "cell_type": "markdown",
   "id": "42c24e0b",
   "metadata": {},
   "source": [
    "## 12. Distribution et étendue des valeurs quantitatives"
   ]
  },
  {
   "cell_type": "code",
   "execution_count": 16,
   "id": "f7d387f0",
   "metadata": {
    "scrolled": true
   },
   "outputs": [
    {
     "data": {
      "text/html": [
       "<div>\n",
       "<style scoped>\n",
       "    .dataframe tbody tr th:only-of-type {\n",
       "        vertical-align: middle;\n",
       "    }\n",
       "\n",
       "    .dataframe tbody tr th {\n",
       "        vertical-align: top;\n",
       "    }\n",
       "\n",
       "    .dataframe thead th {\n",
       "        text-align: right;\n",
       "    }\n",
       "</style>\n",
       "<table border=\"1\" class=\"dataframe\">\n",
       "  <thead>\n",
       "    <tr style=\"text-align: right;\">\n",
       "      <th></th>\n",
       "      <th>Year</th>\n",
       "      <th>NA_Sales</th>\n",
       "      <th>EU_Sales</th>\n",
       "      <th>JP_Sales</th>\n",
       "      <th>Other_Sales</th>\n",
       "      <th>Global_Sales</th>\n",
       "    </tr>\n",
       "  </thead>\n",
       "  <tbody>\n",
       "    <tr>\n",
       "      <th>count</th>\n",
       "      <td>16540.000000</td>\n",
       "      <td>16540.000000</td>\n",
       "      <td>16540.000000</td>\n",
       "      <td>16540.000000</td>\n",
       "      <td>16540.000000</td>\n",
       "      <td>16540.000000</td>\n",
       "    </tr>\n",
       "    <tr>\n",
       "      <th>mean</th>\n",
       "      <td>2006.444619</td>\n",
       "      <td>0.265079</td>\n",
       "      <td>0.146883</td>\n",
       "      <td>0.077998</td>\n",
       "      <td>0.048191</td>\n",
       "      <td>0.538426</td>\n",
       "    </tr>\n",
       "    <tr>\n",
       "      <th>std</th>\n",
       "      <td>5.796957</td>\n",
       "      <td>0.817929</td>\n",
       "      <td>0.506129</td>\n",
       "      <td>0.309800</td>\n",
       "      <td>0.188879</td>\n",
       "      <td>1.557424</td>\n",
       "    </tr>\n",
       "    <tr>\n",
       "      <th>min</th>\n",
       "      <td>1980.000000</td>\n",
       "      <td>0.000000</td>\n",
       "      <td>0.000000</td>\n",
       "      <td>0.000000</td>\n",
       "      <td>0.000000</td>\n",
       "      <td>0.010000</td>\n",
       "    </tr>\n",
       "    <tr>\n",
       "      <th>25%</th>\n",
       "      <td>2003.000000</td>\n",
       "      <td>0.000000</td>\n",
       "      <td>0.000000</td>\n",
       "      <td>0.000000</td>\n",
       "      <td>0.000000</td>\n",
       "      <td>0.060000</td>\n",
       "    </tr>\n",
       "    <tr>\n",
       "      <th>50%</th>\n",
       "      <td>2007.000000</td>\n",
       "      <td>0.080000</td>\n",
       "      <td>0.020000</td>\n",
       "      <td>0.000000</td>\n",
       "      <td>0.010000</td>\n",
       "      <td>0.170000</td>\n",
       "    </tr>\n",
       "    <tr>\n",
       "      <th>75%</th>\n",
       "      <td>2010.000000</td>\n",
       "      <td>0.240000</td>\n",
       "      <td>0.110000</td>\n",
       "      <td>0.040000</td>\n",
       "      <td>0.040000</td>\n",
       "      <td>0.480000</td>\n",
       "    </tr>\n",
       "    <tr>\n",
       "      <th>max</th>\n",
       "      <td>2020.000000</td>\n",
       "      <td>41.490000</td>\n",
       "      <td>29.020000</td>\n",
       "      <td>10.220000</td>\n",
       "      <td>10.570000</td>\n",
       "      <td>82.740000</td>\n",
       "    </tr>\n",
       "  </tbody>\n",
       "</table>\n",
       "</div>"
      ],
      "text/plain": [
       "               Year      NA_Sales      EU_Sales      JP_Sales   Other_Sales  \\\n",
       "count  16540.000000  16540.000000  16540.000000  16540.000000  16540.000000   \n",
       "mean    2006.444619      0.265079      0.146883      0.077998      0.048191   \n",
       "std        5.796957      0.817929      0.506129      0.309800      0.188879   \n",
       "min     1980.000000      0.000000      0.000000      0.000000      0.000000   \n",
       "25%     2003.000000      0.000000      0.000000      0.000000      0.000000   \n",
       "50%     2007.000000      0.080000      0.020000      0.000000      0.010000   \n",
       "75%     2010.000000      0.240000      0.110000      0.040000      0.040000   \n",
       "max     2020.000000     41.490000     29.020000     10.220000     10.570000   \n",
       "\n",
       "       Global_Sales  \n",
       "count  16540.000000  \n",
       "mean       0.538426  \n",
       "std        1.557424  \n",
       "min        0.010000  \n",
       "25%        0.060000  \n",
       "50%        0.170000  \n",
       "75%        0.480000  \n",
       "max       82.740000  "
      ]
     },
     "execution_count": 16,
     "metadata": {},
     "output_type": "execute_result"
    }
   ],
   "source": [
    "game_sales.describe()"
   ]
  },
  {
   "cell_type": "markdown",
   "id": "51a00708",
   "metadata": {},
   "source": [
    " 1. Le nombre de ventes en Amérique du Nord représente la moitié du nombre de ventes globales enregistrées.\n",
    " \n",
    " 2. Les ventes de la variable 'JP_Sales' représente un seul pays : le Japon. Ces ventes sont presque identiques aux ventes qui représentent plusieurs pays : 'Other_Sales'. Le nombre de ventes du Japon représente presque un tiers des ventes de la variable 'EU_Sales' : l'Europe, qui contient 27 pays. On peut conclure, à partir des données que nous avons, que la population japonaise achète plus de jeux vidéos par rapport à l'Europe et les autres pays.\n",
    " "
   ]
  },
  {
   "cell_type": "markdown",
   "id": "7ff5c317",
   "metadata": {},
   "source": [
    "## 13. Distribution et étendue des valeurs qualitatives "
   ]
  },
  {
   "cell_type": "code",
   "execution_count": 17,
   "id": "f7f36de9",
   "metadata": {},
   "outputs": [
    {
     "data": {
      "text/plain": [
       "Action        33.029021\n",
       "Adventure     22.079807\n",
       "Sports        14.165659\n",
       "Misc          10.350665\n",
       "Strategy       7.611850\n",
       "Racing         7.545345\n",
       "Simulation     5.217654\n",
       "Name: Genre, dtype: float64"
      ]
     },
     "execution_count": 17,
     "metadata": {},
     "output_type": "execute_result"
    }
   ],
   "source": [
    "game_sales['Genre'].value_counts(normalize=1)*100"
   ]
  },
  {
   "cell_type": "code",
   "execution_count": 18,
   "id": "5388784f",
   "metadata": {},
   "outputs": [
    {
     "data": {
      "text/plain": [
       "Electronic Arts                 8.168077\n",
       "Activision                      5.894800\n",
       "Namco Bandai Games              5.634825\n",
       "Ubisoft                         5.568319\n",
       "Konami Digital Entertainment    5.030230\n",
       "                                  ...   \n",
       "Sears                           0.006046\n",
       "Pony Canyon                     0.006046\n",
       "Legacy Interactive              0.006046\n",
       "Giga                            0.006046\n",
       "CCP                             0.006046\n",
       "Name: Publisher, Length: 578, dtype: float64"
      ]
     },
     "execution_count": 18,
     "metadata": {},
     "output_type": "execute_result"
    }
   ],
   "source": [
    "game_sales['Publisher'].value_counts(normalize=1)*100"
   ]
  },
  {
   "cell_type": "code",
   "execution_count": 19,
   "id": "cf7ed6c2",
   "metadata": {},
   "outputs": [
    {
     "data": {
      "text/plain": [
       "PS2     13.053204\n",
       "DS      13.035067\n",
       "PS3      8.016929\n",
       "Wii      8.004837\n",
       "X360     7.623942\n",
       "PSP      7.321644\n",
       "PS       7.212817\n",
       "PC       5.767836\n",
       "XB       4.981862\n",
       "GBA      4.812576\n",
       "GC       3.361548\n",
       "3DS      3.065296\n",
       "PSV      2.484885\n",
       "PS4      2.031439\n",
       "N64      1.928658\n",
       "SNES     1.444982\n",
       "XOne     1.287787\n",
       "SAT      1.045949\n",
       "WiiU     0.864571\n",
       "2600     0.804111\n",
       "NES      0.592503\n",
       "GB       0.592503\n",
       "DC       0.314389\n",
       "GEN      0.163241\n",
       "NG       0.072551\n",
       "WS       0.036276\n",
       "SCD      0.036276\n",
       "3DO      0.018138\n",
       "TG16     0.012092\n",
       "PCFX     0.006046\n",
       "GG       0.006046\n",
       "Name: Platform, dtype: float64"
      ]
     },
     "execution_count": 19,
     "metadata": {},
     "output_type": "execute_result"
    }
   ],
   "source": [
    "game_sales['Platform'].value_counts(normalize=1)*100"
   ]
  },
  {
   "cell_type": "code",
   "execution_count": 20,
   "id": "49f7cdef",
   "metadata": {},
   "outputs": [
    {
     "data": {
      "text/plain": [
       "Need for Speed: Most Wanted             0.072551\n",
       "Madden NFL 07                           0.054414\n",
       "LEGO Marvel Super Heroes                0.054414\n",
       "Ratatouille                             0.054414\n",
       "FIFA 14                                 0.054414\n",
       "                                          ...   \n",
       "WipEout 3                               0.006046\n",
       "Road Trip                               0.006046\n",
       "Tiger & Bunny: Hero's Day               0.006046\n",
       "Galaxy Angel II: Eigou Kaiki no Koku    0.006046\n",
       "Medieval Moves: Deadmund's Quest        0.006046\n",
       "Name: Name, Length: 11442, dtype: float64"
      ]
     },
     "execution_count": 20,
     "metadata": {},
     "output_type": "execute_result"
    }
   ],
   "source": [
    "game_sales['Name'].value_counts(normalize=1)*100"
   ]
  },
  {
   "cell_type": "markdown",
   "id": "2231656c",
   "metadata": {},
   "source": [
    "## 14. Corrélation des variables quantitatives"
   ]
  },
  {
   "cell_type": "code",
   "execution_count": 21,
   "id": "17cb14ea",
   "metadata": {},
   "outputs": [
    {
     "data": {
      "text/html": [
       "<div>\n",
       "<style scoped>\n",
       "    .dataframe tbody tr th:only-of-type {\n",
       "        vertical-align: middle;\n",
       "    }\n",
       "\n",
       "    .dataframe tbody tr th {\n",
       "        vertical-align: top;\n",
       "    }\n",
       "\n",
       "    .dataframe thead th {\n",
       "        text-align: right;\n",
       "    }\n",
       "</style>\n",
       "<table border=\"1\" class=\"dataframe\">\n",
       "  <thead>\n",
       "    <tr style=\"text-align: right;\">\n",
       "      <th></th>\n",
       "      <th>Year</th>\n",
       "      <th>NA_Sales</th>\n",
       "      <th>EU_Sales</th>\n",
       "      <th>JP_Sales</th>\n",
       "      <th>Other_Sales</th>\n",
       "      <th>Global_Sales</th>\n",
       "    </tr>\n",
       "  </thead>\n",
       "  <tbody>\n",
       "    <tr>\n",
       "      <th>Year</th>\n",
       "      <td>1.000000</td>\n",
       "      <td>-0.091264</td>\n",
       "      <td>0.005352</td>\n",
       "      <td>-0.170172</td>\n",
       "      <td>0.040468</td>\n",
       "      <td>-0.075147</td>\n",
       "    </tr>\n",
       "    <tr>\n",
       "      <th>NA_Sales</th>\n",
       "      <td>-0.091264</td>\n",
       "      <td>1.000000</td>\n",
       "      <td>0.767672</td>\n",
       "      <td>0.449864</td>\n",
       "      <td>0.634651</td>\n",
       "      <td>0.941036</td>\n",
       "    </tr>\n",
       "    <tr>\n",
       "      <th>EU_Sales</th>\n",
       "      <td>0.005352</td>\n",
       "      <td>0.767672</td>\n",
       "      <td>1.000000</td>\n",
       "      <td>0.435658</td>\n",
       "      <td>0.726326</td>\n",
       "      <td>0.902817</td>\n",
       "    </tr>\n",
       "    <tr>\n",
       "      <th>JP_Sales</th>\n",
       "      <td>-0.170172</td>\n",
       "      <td>0.449864</td>\n",
       "      <td>0.435658</td>\n",
       "      <td>1.000000</td>\n",
       "      <td>0.290150</td>\n",
       "      <td>0.611893</td>\n",
       "    </tr>\n",
       "    <tr>\n",
       "      <th>Other_Sales</th>\n",
       "      <td>0.040468</td>\n",
       "      <td>0.634651</td>\n",
       "      <td>0.726326</td>\n",
       "      <td>0.290150</td>\n",
       "      <td>1.000000</td>\n",
       "      <td>0.748260</td>\n",
       "    </tr>\n",
       "    <tr>\n",
       "      <th>Global_Sales</th>\n",
       "      <td>-0.075147</td>\n",
       "      <td>0.941036</td>\n",
       "      <td>0.902817</td>\n",
       "      <td>0.611893</td>\n",
       "      <td>0.748260</td>\n",
       "      <td>1.000000</td>\n",
       "    </tr>\n",
       "  </tbody>\n",
       "</table>\n",
       "</div>"
      ],
      "text/plain": [
       "                  Year  NA_Sales  EU_Sales  JP_Sales  Other_Sales  \\\n",
       "Year          1.000000 -0.091264  0.005352 -0.170172     0.040468   \n",
       "NA_Sales     -0.091264  1.000000  0.767672  0.449864     0.634651   \n",
       "EU_Sales      0.005352  0.767672  1.000000  0.435658     0.726326   \n",
       "JP_Sales     -0.170172  0.449864  0.435658  1.000000     0.290150   \n",
       "Other_Sales   0.040468  0.634651  0.726326  0.290150     1.000000   \n",
       "Global_Sales -0.075147  0.941036  0.902817  0.611893     0.748260   \n",
       "\n",
       "              Global_Sales  \n",
       "Year             -0.075147  \n",
       "NA_Sales          0.941036  \n",
       "EU_Sales          0.902817  \n",
       "JP_Sales          0.611893  \n",
       "Other_Sales       0.748260  \n",
       "Global_Sales      1.000000  "
      ]
     },
     "execution_count": 21,
     "metadata": {},
     "output_type": "execute_result"
    }
   ],
   "source": [
    "game_sales.corr()"
   ]
  },
  {
   "cell_type": "markdown",
   "id": "709dbf22",
   "metadata": {},
   "source": [
    "Les variables de ventes sont toutes corrélées positivement.\n",
    "On considère les coefficients compris entre 0.5 et 1 expriment une corrélation positive et forte.\n",
    "Les coefficients compris entre 0 et 0.5 expriment une corrélation positive et faible.\n",
    "\n",
    "Les variables NA_Sales, EU_Sales et Other_Sales sont toutes corrélées fortement et positivement entres-elles. \n",
    "Cependant, la corrélation entre JP_Sales et ces dernières est positivement faible.\n",
    "En revanche, toutes les variables de ventes sont corrélées fortement et positivement avec Global_Sales.\n",
    "\n",
    "Concernant la variable \"Year\", nous constatons que les coefficients se rapprochent de zéro, nous pouvons en conclure qu'il n'y a pas de corrélation avec les variables ventes."
   ]
  },
  {
   "cell_type": "markdown",
   "id": "190ae6d5",
   "metadata": {},
   "source": [
    "## 15. Corrélation entre les variables quantitatives et les variables qualitatives avec la méthode ANOVA"
   ]
  },
  {
   "cell_type": "markdown",
   "id": "2fea0e85",
   "metadata": {},
   "source": [
    "#### 15.1) Corrélation entre la variable \"Year\" et les variables qualitatives : \"Platform\", \"Genre\", \"Publisher\" et \"Name\""
   ]
  },
  {
   "cell_type": "code",
   "execution_count": 22,
   "id": "5c6c49a7",
   "metadata": {},
   "outputs": [
    {
     "data": {
      "text/html": [
       "<div>\n",
       "<style scoped>\n",
       "    .dataframe tbody tr th:only-of-type {\n",
       "        vertical-align: middle;\n",
       "    }\n",
       "\n",
       "    .dataframe tbody tr th {\n",
       "        vertical-align: top;\n",
       "    }\n",
       "\n",
       "    .dataframe thead th {\n",
       "        text-align: right;\n",
       "    }\n",
       "</style>\n",
       "<table border=\"1\" class=\"dataframe\">\n",
       "  <thead>\n",
       "    <tr style=\"text-align: right;\">\n",
       "      <th></th>\n",
       "      <th>df</th>\n",
       "      <th>sum_sq</th>\n",
       "      <th>mean_sq</th>\n",
       "      <th>F</th>\n",
       "      <th>PR(&gt;F)</th>\n",
       "    </tr>\n",
       "  </thead>\n",
       "  <tbody>\n",
       "    <tr>\n",
       "      <th>Platform</th>\n",
       "      <td>30.0</td>\n",
       "      <td>460333.741069</td>\n",
       "      <td>15344.458036</td>\n",
       "      <td>2653.846367</td>\n",
       "      <td>0.0</td>\n",
       "    </tr>\n",
       "    <tr>\n",
       "      <th>Residual</th>\n",
       "      <td>16509.0</td>\n",
       "      <td>95454.530031</td>\n",
       "      <td>5.781969</td>\n",
       "      <td>NaN</td>\n",
       "      <td>NaN</td>\n",
       "    </tr>\n",
       "  </tbody>\n",
       "</table>\n",
       "</div>"
      ],
      "text/plain": [
       "               df         sum_sq       mean_sq            F  PR(>F)\n",
       "Platform     30.0  460333.741069  15344.458036  2653.846367     0.0\n",
       "Residual  16509.0   95454.530031      5.781969          NaN     NaN"
      ]
     },
     "execution_count": 22,
     "metadata": {},
     "output_type": "execute_result"
    }
   ],
   "source": [
    "Dep_Y = statsmodels.formula.api.ols('Year ~ Platform', data=game_sales).fit()\n",
    "result_Y = statsmodels.api.stats.anova_lm(Dep_Y)\n",
    "\n",
    "result_Y"
   ]
  },
  {
   "cell_type": "code",
   "execution_count": 23,
   "id": "eac7a550",
   "metadata": {},
   "outputs": [
    {
     "data": {
      "text/html": [
       "<div>\n",
       "<style scoped>\n",
       "    .dataframe tbody tr th:only-of-type {\n",
       "        vertical-align: middle;\n",
       "    }\n",
       "\n",
       "    .dataframe tbody tr th {\n",
       "        vertical-align: top;\n",
       "    }\n",
       "\n",
       "    .dataframe thead th {\n",
       "        text-align: right;\n",
       "    }\n",
       "</style>\n",
       "<table border=\"1\" class=\"dataframe\">\n",
       "  <thead>\n",
       "    <tr style=\"text-align: right;\">\n",
       "      <th></th>\n",
       "      <th>df</th>\n",
       "      <th>sum_sq</th>\n",
       "      <th>mean_sq</th>\n",
       "      <th>F</th>\n",
       "      <th>PR(&gt;F)</th>\n",
       "    </tr>\n",
       "  </thead>\n",
       "  <tbody>\n",
       "    <tr>\n",
       "      <th>Genre</th>\n",
       "      <td>6.0</td>\n",
       "      <td>9008.555498</td>\n",
       "      <td>1501.425916</td>\n",
       "      <td>45.398675</td>\n",
       "      <td>1.960789e-55</td>\n",
       "    </tr>\n",
       "    <tr>\n",
       "      <th>Residual</th>\n",
       "      <td>16533.0</td>\n",
       "      <td>546779.715603</td>\n",
       "      <td>33.072021</td>\n",
       "      <td>NaN</td>\n",
       "      <td>NaN</td>\n",
       "    </tr>\n",
       "  </tbody>\n",
       "</table>\n",
       "</div>"
      ],
      "text/plain": [
       "               df         sum_sq      mean_sq          F        PR(>F)\n",
       "Genre         6.0    9008.555498  1501.425916  45.398675  1.960789e-55\n",
       "Residual  16533.0  546779.715603    33.072021        NaN           NaN"
      ]
     },
     "execution_count": 23,
     "metadata": {},
     "output_type": "execute_result"
    }
   ],
   "source": [
    "Dep_Y1 = statsmodels.formula.api.ols('Year ~ Genre', data=game_sales).fit()\n",
    "result_Y1 = statsmodels.api.stats.anova_lm(Dep_Y1)\n",
    "\n",
    "result_Y1"
   ]
  },
  {
   "cell_type": "code",
   "execution_count": 24,
   "id": "0d21ca88",
   "metadata": {},
   "outputs": [
    {
     "data": {
      "text/html": [
       "<div>\n",
       "<style scoped>\n",
       "    .dataframe tbody tr th:only-of-type {\n",
       "        vertical-align: middle;\n",
       "    }\n",
       "\n",
       "    .dataframe tbody tr th {\n",
       "        vertical-align: top;\n",
       "    }\n",
       "\n",
       "    .dataframe thead th {\n",
       "        text-align: right;\n",
       "    }\n",
       "</style>\n",
       "<table border=\"1\" class=\"dataframe\">\n",
       "  <thead>\n",
       "    <tr style=\"text-align: right;\">\n",
       "      <th></th>\n",
       "      <th>df</th>\n",
       "      <th>sum_sq</th>\n",
       "      <th>mean_sq</th>\n",
       "      <th>F</th>\n",
       "      <th>PR(&gt;F)</th>\n",
       "    </tr>\n",
       "  </thead>\n",
       "  <tbody>\n",
       "    <tr>\n",
       "      <th>Publisher</th>\n",
       "      <td>577.0</td>\n",
       "      <td>205447.559463</td>\n",
       "      <td>356.061628</td>\n",
       "      <td>16.222653</td>\n",
       "      <td>0.0</td>\n",
       "    </tr>\n",
       "    <tr>\n",
       "      <th>Residual</th>\n",
       "      <td>15962.0</td>\n",
       "      <td>350340.711637</td>\n",
       "      <td>21.948422</td>\n",
       "      <td>NaN</td>\n",
       "      <td>NaN</td>\n",
       "    </tr>\n",
       "  </tbody>\n",
       "</table>\n",
       "</div>"
      ],
      "text/plain": [
       "                df         sum_sq     mean_sq          F  PR(>F)\n",
       "Publisher    577.0  205447.559463  356.061628  16.222653     0.0\n",
       "Residual   15962.0  350340.711637   21.948422        NaN     NaN"
      ]
     },
     "execution_count": 24,
     "metadata": {},
     "output_type": "execute_result"
    }
   ],
   "source": [
    "Dep_Y2 = statsmodels.formula.api.ols('Year ~ Publisher', data=game_sales).fit()\n",
    "result_Y2 = statsmodels.api.stats.anova_lm(Dep_Y2)\n",
    "\n",
    "result_Y2"
   ]
  },
  {
   "cell_type": "code",
   "execution_count": 25,
   "id": "9f8db41b",
   "metadata": {},
   "outputs": [],
   "source": [
    "#Dep_Y3 = statsmodels.formula.api.ols('Year ~ Name', data=game_sales).fit()\n",
    "#result_Y3 = statsmodels.api.stats.anova_lm(Dep_Y3)\n",
    "\n",
    "#result_Y3\n",
    "#Le code rame trop longtemps et fait bugué le notebook"
   ]
  },
  {
   "cell_type": "markdown",
   "id": "3f277b67",
   "metadata": {},
   "source": [
    "Au vue des résultats, nous pouvons conclure qu'il n'y a pas de corrélation entre la variable \"Year\" et les autres variables qualitatives"
   ]
  },
  {
   "cell_type": "markdown",
   "id": "2d981f77",
   "metadata": {},
   "source": [
    "#### 15.2) Corrélation entre la variable \"Na_Sales\" et les variables qualitatives : \"Platform\", \"Genre\", \"Publisher\" et \"Name\""
   ]
  },
  {
   "cell_type": "code",
   "execution_count": 25,
   "id": "758e9ef1",
   "metadata": {},
   "outputs": [
    {
     "data": {
      "text/html": [
       "<div>\n",
       "<style scoped>\n",
       "    .dataframe tbody tr th:only-of-type {\n",
       "        vertical-align: middle;\n",
       "    }\n",
       "\n",
       "    .dataframe tbody tr th {\n",
       "        vertical-align: top;\n",
       "    }\n",
       "\n",
       "    .dataframe thead th {\n",
       "        text-align: right;\n",
       "    }\n",
       "</style>\n",
       "<table border=\"1\" class=\"dataframe\">\n",
       "  <thead>\n",
       "    <tr style=\"text-align: right;\">\n",
       "      <th></th>\n",
       "      <th>df</th>\n",
       "      <th>sum_sq</th>\n",
       "      <th>mean_sq</th>\n",
       "      <th>F</th>\n",
       "      <th>PR(&gt;F)</th>\n",
       "    </tr>\n",
       "  </thead>\n",
       "  <tbody>\n",
       "    <tr>\n",
       "      <th>Platform</th>\n",
       "      <td>30.0</td>\n",
       "      <td>423.103513</td>\n",
       "      <td>14.103450</td>\n",
       "      <td>21.87957</td>\n",
       "      <td>1.998317e-116</td>\n",
       "    </tr>\n",
       "    <tr>\n",
       "      <th>Residual</th>\n",
       "      <td>16509.0</td>\n",
       "      <td>10641.610683</td>\n",
       "      <td>0.644595</td>\n",
       "      <td>NaN</td>\n",
       "      <td>NaN</td>\n",
       "    </tr>\n",
       "  </tbody>\n",
       "</table>\n",
       "</div>"
      ],
      "text/plain": [
       "               df        sum_sq    mean_sq         F         PR(>F)\n",
       "Platform     30.0    423.103513  14.103450  21.87957  1.998317e-116\n",
       "Residual  16509.0  10641.610683   0.644595       NaN            NaN"
      ]
     },
     "execution_count": 25,
     "metadata": {},
     "output_type": "execute_result"
    }
   ],
   "source": [
    "Dep_NA = statsmodels.formula.api.ols('NA_Sales ~ Platform', data=game_sales).fit()\n",
    "resultNA = statsmodels.api.stats.anova_lm(Dep_NA)\n",
    "\n",
    "resultNA"
   ]
  },
  {
   "cell_type": "code",
   "execution_count": 27,
   "id": "8b4c21ce",
   "metadata": {},
   "outputs": [
    {
     "data": {
      "text/html": [
       "<div>\n",
       "<style scoped>\n",
       "    .dataframe tbody tr th:only-of-type {\n",
       "        vertical-align: middle;\n",
       "    }\n",
       "\n",
       "    .dataframe tbody tr th {\n",
       "        vertical-align: top;\n",
       "    }\n",
       "\n",
       "    .dataframe thead th {\n",
       "        text-align: right;\n",
       "    }\n",
       "</style>\n",
       "<table border=\"1\" class=\"dataframe\">\n",
       "  <thead>\n",
       "    <tr style=\"text-align: right;\">\n",
       "      <th></th>\n",
       "      <th>df</th>\n",
       "      <th>sum_sq</th>\n",
       "      <th>mean_sq</th>\n",
       "      <th>F</th>\n",
       "      <th>PR(&gt;F)</th>\n",
       "    </tr>\n",
       "  </thead>\n",
       "  <tbody>\n",
       "    <tr>\n",
       "      <th>Genre</th>\n",
       "      <td>7.0</td>\n",
       "      <td>35.150120</td>\n",
       "      <td>5.021446</td>\n",
       "      <td>7.526548</td>\n",
       "      <td>4.426029e-09</td>\n",
       "    </tr>\n",
       "    <tr>\n",
       "      <th>Residual</th>\n",
       "      <td>16532.0</td>\n",
       "      <td>11029.564076</td>\n",
       "      <td>0.667165</td>\n",
       "      <td>NaN</td>\n",
       "      <td>NaN</td>\n",
       "    </tr>\n",
       "  </tbody>\n",
       "</table>\n",
       "</div>"
      ],
      "text/plain": [
       "               df        sum_sq   mean_sq         F        PR(>F)\n",
       "Genre         7.0     35.150120  5.021446  7.526548  4.426029e-09\n",
       "Residual  16532.0  11029.564076  0.667165       NaN           NaN"
      ]
     },
     "execution_count": 27,
     "metadata": {},
     "output_type": "execute_result"
    }
   ],
   "source": [
    "Dep_NA1 = statsmodels.formula.api.ols('NA_Sales ~ Genre', data=game_sales).fit()\n",
    "result_NA1 = statsmodels.api.stats.anova_lm(Dep_NA1)\n",
    "result_NA1"
   ]
  },
  {
   "cell_type": "code",
   "execution_count": 26,
   "id": "67f8966b",
   "metadata": {},
   "outputs": [
    {
     "data": {
      "text/html": [
       "<div>\n",
       "<style scoped>\n",
       "    .dataframe tbody tr th:only-of-type {\n",
       "        vertical-align: middle;\n",
       "    }\n",
       "\n",
       "    .dataframe tbody tr th {\n",
       "        vertical-align: top;\n",
       "    }\n",
       "\n",
       "    .dataframe thead th {\n",
       "        text-align: right;\n",
       "    }\n",
       "</style>\n",
       "<table border=\"1\" class=\"dataframe\">\n",
       "  <thead>\n",
       "    <tr style=\"text-align: right;\">\n",
       "      <th></th>\n",
       "      <th>df</th>\n",
       "      <th>sum_sq</th>\n",
       "      <th>mean_sq</th>\n",
       "      <th>F</th>\n",
       "      <th>PR(&gt;F)</th>\n",
       "    </tr>\n",
       "  </thead>\n",
       "  <tbody>\n",
       "    <tr>\n",
       "      <th>Publisher</th>\n",
       "      <td>577.0</td>\n",
       "      <td>1093.020669</td>\n",
       "      <td>1.894317</td>\n",
       "      <td>3.032291</td>\n",
       "      <td>1.196239e-109</td>\n",
       "    </tr>\n",
       "    <tr>\n",
       "      <th>Residual</th>\n",
       "      <td>15962.0</td>\n",
       "      <td>9971.693527</td>\n",
       "      <td>0.624715</td>\n",
       "      <td>NaN</td>\n",
       "      <td>NaN</td>\n",
       "    </tr>\n",
       "  </tbody>\n",
       "</table>\n",
       "</div>"
      ],
      "text/plain": [
       "                df       sum_sq   mean_sq         F         PR(>F)\n",
       "Publisher    577.0  1093.020669  1.894317  3.032291  1.196239e-109\n",
       "Residual   15962.0  9971.693527  0.624715       NaN            NaN"
      ]
     },
     "execution_count": 26,
     "metadata": {},
     "output_type": "execute_result"
    }
   ],
   "source": [
    "Dep_NA2 = statsmodels.formula.api.ols('NA_Sales ~ Publisher', data=game_sales).fit()\n",
    "result_NA2 = statsmodels.api.stats.anova_lm(Dep_NA2)\n",
    "\n",
    "result_NA2"
   ]
  },
  {
   "cell_type": "code",
   "execution_count": 29,
   "id": "e380ab2c",
   "metadata": {},
   "outputs": [],
   "source": [
    "#Dep_NA3 = statsmodels.formula.api.ols('NA_Sales ~ Name', data=game_sales).fit()\n",
    "#result_NA3 = statsmodels.api.stats.anova_lm(Dep_NA3)\n",
    "#result_NA3\n",
    "#Le code rame trop longtemps et fait bugué le notebook"
   ]
  },
  {
   "cell_type": "markdown",
   "id": "e020016d",
   "metadata": {},
   "source": [
    "Au vue des résultats, nous pouvons conclure qu'il n'y a pas de corrélation entre la variable \"NA_Sales\" et les autres variables qualitatives"
   ]
  },
  {
   "cell_type": "markdown",
   "id": "39a0cb5b",
   "metadata": {},
   "source": [
    "#### 15.3) Corrélation entre la variable \"EU_Sales\" et les variables qualitatives : \"Platform\", \"Genre\", \"Publisher\" et \"Name\""
   ]
  },
  {
   "cell_type": "code",
   "execution_count": 27,
   "id": "d6a6ee80",
   "metadata": {},
   "outputs": [
    {
     "data": {
      "text/html": [
       "<div>\n",
       "<style scoped>\n",
       "    .dataframe tbody tr th:only-of-type {\n",
       "        vertical-align: middle;\n",
       "    }\n",
       "\n",
       "    .dataframe tbody tr th {\n",
       "        vertical-align: top;\n",
       "    }\n",
       "\n",
       "    .dataframe thead th {\n",
       "        text-align: right;\n",
       "    }\n",
       "</style>\n",
       "<table border=\"1\" class=\"dataframe\">\n",
       "  <thead>\n",
       "    <tr style=\"text-align: right;\">\n",
       "      <th></th>\n",
       "      <th>df</th>\n",
       "      <th>sum_sq</th>\n",
       "      <th>mean_sq</th>\n",
       "      <th>F</th>\n",
       "      <th>PR(&gt;F)</th>\n",
       "    </tr>\n",
       "  </thead>\n",
       "  <tbody>\n",
       "    <tr>\n",
       "      <th>Platform</th>\n",
       "      <td>30.0</td>\n",
       "      <td>98.472694</td>\n",
       "      <td>3.282423</td>\n",
       "      <td>13.094742</td>\n",
       "      <td>5.664941e-64</td>\n",
       "    </tr>\n",
       "    <tr>\n",
       "      <th>Residual</th>\n",
       "      <td>16509.0</td>\n",
       "      <td>4138.265741</td>\n",
       "      <td>0.250667</td>\n",
       "      <td>NaN</td>\n",
       "      <td>NaN</td>\n",
       "    </tr>\n",
       "  </tbody>\n",
       "</table>\n",
       "</div>"
      ],
      "text/plain": [
       "               df       sum_sq   mean_sq          F        PR(>F)\n",
       "Platform     30.0    98.472694  3.282423  13.094742  5.664941e-64\n",
       "Residual  16509.0  4138.265741  0.250667        NaN           NaN"
      ]
     },
     "execution_count": 27,
     "metadata": {},
     "output_type": "execute_result"
    }
   ],
   "source": [
    "Dep_EU = statsmodels.formula.api.ols('EU_Sales ~ Platform', data=game_sales).fit()\n",
    "result_EU = statsmodels.api.stats.anova_lm(Dep_EU)\n",
    "\n",
    "result_EU"
   ]
  },
  {
   "cell_type": "code",
   "execution_count": 28,
   "id": "a8cd5205",
   "metadata": {},
   "outputs": [
    {
     "data": {
      "text/html": [
       "<div>\n",
       "<style scoped>\n",
       "    .dataframe tbody tr th:only-of-type {\n",
       "        vertical-align: middle;\n",
       "    }\n",
       "\n",
       "    .dataframe tbody tr th {\n",
       "        vertical-align: top;\n",
       "    }\n",
       "\n",
       "    .dataframe thead th {\n",
       "        text-align: right;\n",
       "    }\n",
       "</style>\n",
       "<table border=\"1\" class=\"dataframe\">\n",
       "  <thead>\n",
       "    <tr style=\"text-align: right;\">\n",
       "      <th></th>\n",
       "      <th>df</th>\n",
       "      <th>sum_sq</th>\n",
       "      <th>mean_sq</th>\n",
       "      <th>F</th>\n",
       "      <th>PR(&gt;F)</th>\n",
       "    </tr>\n",
       "  </thead>\n",
       "  <tbody>\n",
       "    <tr>\n",
       "      <th>Genre</th>\n",
       "      <td>6.0</td>\n",
       "      <td>15.465339</td>\n",
       "      <td>2.577556</td>\n",
       "      <td>10.095234</td>\n",
       "      <td>3.615800e-11</td>\n",
       "    </tr>\n",
       "    <tr>\n",
       "      <th>Residual</th>\n",
       "      <td>16533.0</td>\n",
       "      <td>4221.273096</td>\n",
       "      <td>0.255324</td>\n",
       "      <td>NaN</td>\n",
       "      <td>NaN</td>\n",
       "    </tr>\n",
       "  </tbody>\n",
       "</table>\n",
       "</div>"
      ],
      "text/plain": [
       "               df       sum_sq   mean_sq          F        PR(>F)\n",
       "Genre         6.0    15.465339  2.577556  10.095234  3.615800e-11\n",
       "Residual  16533.0  4221.273096  0.255324        NaN           NaN"
      ]
     },
     "execution_count": 28,
     "metadata": {},
     "output_type": "execute_result"
    }
   ],
   "source": [
    "Dep_EU1 = statsmodels.formula.api.ols('EU_Sales ~ Genre', data=game_sales).fit()\n",
    "result_EU1 = statsmodels.api.stats.anova_lm(Dep_EU1)\n",
    "\n",
    "result_EU1"
   ]
  },
  {
   "cell_type": "code",
   "execution_count": 32,
   "id": "68dc7b16",
   "metadata": {},
   "outputs": [
    {
     "data": {
      "text/html": [
       "<div>\n",
       "<style scoped>\n",
       "    .dataframe tbody tr th:only-of-type {\n",
       "        vertical-align: middle;\n",
       "    }\n",
       "\n",
       "    .dataframe tbody tr th {\n",
       "        vertical-align: top;\n",
       "    }\n",
       "\n",
       "    .dataframe thead th {\n",
       "        text-align: right;\n",
       "    }\n",
       "</style>\n",
       "<table border=\"1\" class=\"dataframe\">\n",
       "  <thead>\n",
       "    <tr style=\"text-align: right;\">\n",
       "      <th></th>\n",
       "      <th>df</th>\n",
       "      <th>sum_sq</th>\n",
       "      <th>mean_sq</th>\n",
       "      <th>F</th>\n",
       "      <th>PR(&gt;F)</th>\n",
       "    </tr>\n",
       "  </thead>\n",
       "  <tbody>\n",
       "    <tr>\n",
       "      <th>Publisher</th>\n",
       "      <td>577.0</td>\n",
       "      <td>316.027474</td>\n",
       "      <td>0.547708</td>\n",
       "      <td>2.229829</td>\n",
       "      <td>8.031554e-53</td>\n",
       "    </tr>\n",
       "    <tr>\n",
       "      <th>Residual</th>\n",
       "      <td>15962.0</td>\n",
       "      <td>3920.710961</td>\n",
       "      <td>0.245628</td>\n",
       "      <td>NaN</td>\n",
       "      <td>NaN</td>\n",
       "    </tr>\n",
       "  </tbody>\n",
       "</table>\n",
       "</div>"
      ],
      "text/plain": [
       "                df       sum_sq   mean_sq         F        PR(>F)\n",
       "Publisher    577.0   316.027474  0.547708  2.229829  8.031554e-53\n",
       "Residual   15962.0  3920.710961  0.245628       NaN           NaN"
      ]
     },
     "execution_count": 32,
     "metadata": {},
     "output_type": "execute_result"
    }
   ],
   "source": [
    "Dep_EU2 = statsmodels.formula.api.ols('EU_Sales ~ Publisher', data=game_sales).fit()\n",
    "result_EU2 = statsmodels.api.stats.anova_lm(Dep_EU2)\n",
    "\n",
    "result_EU2"
   ]
  },
  {
   "cell_type": "code",
   "execution_count": 33,
   "id": "8701a635",
   "metadata": {},
   "outputs": [],
   "source": [
    "#Dep_EU3 = statsmodels.formula.api.ols('EU_Sales ~ Name', data=game_sales).fit()\n",
    "#result_EU3 = statsmodels.api.stats.anova_lm(Dep_EU3)\n",
    "\n",
    "#result_EU3\n",
    "#Le code rame trop longtemps et fait bugué le notebook"
   ]
  },
  {
   "cell_type": "markdown",
   "id": "e08cda1b",
   "metadata": {},
   "source": [
    "Au vue des résultats, nous pouvons conclure qu'il n'y a pas de corrélation entre la variable \"EU_Sales\" et les autres variables qualitatives"
   ]
  },
  {
   "cell_type": "markdown",
   "id": "6772d9bb",
   "metadata": {},
   "source": [
    "#### 15.4) Corrélation entre la variable \"JP_Sales\" et les variables qualitatives : \"Platform\", \"Genre\", \"Publisher\" et \"Name\""
   ]
  },
  {
   "cell_type": "code",
   "execution_count": 29,
   "id": "adcd0e11",
   "metadata": {},
   "outputs": [
    {
     "data": {
      "text/html": [
       "<div>\n",
       "<style scoped>\n",
       "    .dataframe tbody tr th:only-of-type {\n",
       "        vertical-align: middle;\n",
       "    }\n",
       "\n",
       "    .dataframe tbody tr th {\n",
       "        vertical-align: top;\n",
       "    }\n",
       "\n",
       "    .dataframe thead th {\n",
       "        text-align: right;\n",
       "    }\n",
       "</style>\n",
       "<table border=\"1\" class=\"dataframe\">\n",
       "  <thead>\n",
       "    <tr style=\"text-align: right;\">\n",
       "      <th></th>\n",
       "      <th>df</th>\n",
       "      <th>sum_sq</th>\n",
       "      <th>mean_sq</th>\n",
       "      <th>F</th>\n",
       "      <th>PR(&gt;F)</th>\n",
       "    </tr>\n",
       "  </thead>\n",
       "  <tbody>\n",
       "    <tr>\n",
       "      <th>Platform</th>\n",
       "      <td>30.0</td>\n",
       "      <td>219.51885</td>\n",
       "      <td>7.317295</td>\n",
       "      <td>88.316197</td>\n",
       "      <td>0.0</td>\n",
       "    </tr>\n",
       "    <tr>\n",
       "      <th>Residual</th>\n",
       "      <td>16509.0</td>\n",
       "      <td>1367.82637</td>\n",
       "      <td>0.082853</td>\n",
       "      <td>NaN</td>\n",
       "      <td>NaN</td>\n",
       "    </tr>\n",
       "  </tbody>\n",
       "</table>\n",
       "</div>"
      ],
      "text/plain": [
       "               df      sum_sq   mean_sq          F  PR(>F)\n",
       "Platform     30.0   219.51885  7.317295  88.316197     0.0\n",
       "Residual  16509.0  1367.82637  0.082853        NaN     NaN"
      ]
     },
     "execution_count": 29,
     "metadata": {},
     "output_type": "execute_result"
    }
   ],
   "source": [
    "Dep_JP = statsmodels.formula.api.ols('JP_Sales ~ Platform', data=game_sales).fit()\n",
    "result_JP = statsmodels.api.stats.anova_lm(Dep_JP)\n",
    "\n",
    "result_JP"
   ]
  },
  {
   "cell_type": "code",
   "execution_count": 30,
   "id": "cbda3f76",
   "metadata": {},
   "outputs": [
    {
     "data": {
      "text/html": [
       "<div>\n",
       "<style scoped>\n",
       "    .dataframe tbody tr th:only-of-type {\n",
       "        vertical-align: middle;\n",
       "    }\n",
       "\n",
       "    .dataframe tbody tr th {\n",
       "        vertical-align: top;\n",
       "    }\n",
       "\n",
       "    .dataframe thead th {\n",
       "        text-align: right;\n",
       "    }\n",
       "</style>\n",
       "<table border=\"1\" class=\"dataframe\">\n",
       "  <thead>\n",
       "    <tr style=\"text-align: right;\">\n",
       "      <th></th>\n",
       "      <th>df</th>\n",
       "      <th>sum_sq</th>\n",
       "      <th>mean_sq</th>\n",
       "      <th>F</th>\n",
       "      <th>PR(&gt;F)</th>\n",
       "    </tr>\n",
       "  </thead>\n",
       "  <tbody>\n",
       "    <tr>\n",
       "      <th>Platform</th>\n",
       "      <td>30.0</td>\n",
       "      <td>219.51885</td>\n",
       "      <td>7.317295</td>\n",
       "      <td>88.316197</td>\n",
       "      <td>0.0</td>\n",
       "    </tr>\n",
       "    <tr>\n",
       "      <th>Residual</th>\n",
       "      <td>16509.0</td>\n",
       "      <td>1367.82637</td>\n",
       "      <td>0.082853</td>\n",
       "      <td>NaN</td>\n",
       "      <td>NaN</td>\n",
       "    </tr>\n",
       "  </tbody>\n",
       "</table>\n",
       "</div>"
      ],
      "text/plain": [
       "               df      sum_sq   mean_sq          F  PR(>F)\n",
       "Platform     30.0   219.51885  7.317295  88.316197     0.0\n",
       "Residual  16509.0  1367.82637  0.082853        NaN     NaN"
      ]
     },
     "execution_count": 30,
     "metadata": {},
     "output_type": "execute_result"
    }
   ],
   "source": [
    "Dep_JP1 = statsmodels.formula.api.ols('JP_Sales ~ Genre', data=game_sales).fit()\n",
    "result_JP1 = statsmodels.api.stats.anova_lm(Dep_JP)\n",
    "\n",
    "result_JP1"
   ]
  },
  {
   "cell_type": "code",
   "execution_count": 31,
   "id": "b71093d8",
   "metadata": {},
   "outputs": [
    {
     "data": {
      "text/html": [
       "<div>\n",
       "<style scoped>\n",
       "    .dataframe tbody tr th:only-of-type {\n",
       "        vertical-align: middle;\n",
       "    }\n",
       "\n",
       "    .dataframe tbody tr th {\n",
       "        vertical-align: top;\n",
       "    }\n",
       "\n",
       "    .dataframe thead th {\n",
       "        text-align: right;\n",
       "    }\n",
       "</style>\n",
       "<table border=\"1\" class=\"dataframe\">\n",
       "  <thead>\n",
       "    <tr style=\"text-align: right;\">\n",
       "      <th></th>\n",
       "      <th>df</th>\n",
       "      <th>sum_sq</th>\n",
       "      <th>mean_sq</th>\n",
       "      <th>F</th>\n",
       "      <th>PR(&gt;F)</th>\n",
       "    </tr>\n",
       "  </thead>\n",
       "  <tbody>\n",
       "    <tr>\n",
       "      <th>Publisher</th>\n",
       "      <td>577.0</td>\n",
       "      <td>361.531088</td>\n",
       "      <td>0.626570</td>\n",
       "      <td>8.158917</td>\n",
       "      <td>0.0</td>\n",
       "    </tr>\n",
       "    <tr>\n",
       "      <th>Residual</th>\n",
       "      <td>15962.0</td>\n",
       "      <td>1225.814132</td>\n",
       "      <td>0.076796</td>\n",
       "      <td>NaN</td>\n",
       "      <td>NaN</td>\n",
       "    </tr>\n",
       "  </tbody>\n",
       "</table>\n",
       "</div>"
      ],
      "text/plain": [
       "                df       sum_sq   mean_sq         F  PR(>F)\n",
       "Publisher    577.0   361.531088  0.626570  8.158917     0.0\n",
       "Residual   15962.0  1225.814132  0.076796       NaN     NaN"
      ]
     },
     "execution_count": 31,
     "metadata": {},
     "output_type": "execute_result"
    }
   ],
   "source": [
    "Dep_JP2 = statsmodels.formula.api.ols('JP_Sales ~ Publisher', data=game_sales).fit()\n",
    "result_JP2 = statsmodels.api.stats.anova_lm(Dep_JP2)\n",
    "\n",
    "result_JP2"
   ]
  },
  {
   "cell_type": "code",
   "execution_count": 37,
   "id": "04c57c44",
   "metadata": {},
   "outputs": [],
   "source": [
    "#Dep_JP3 = statsmodels.formula.api.ols('JP_Sales ~ Name', data=game_sales).fit()\n",
    "#result_JP3 = statsmodels.api.stats.anova_lm(Dep_JP3)\n",
    "\n",
    "#result_JP3\n",
    "#Le code rame trop longtemps et fait bugué le notebook"
   ]
  },
  {
   "cell_type": "markdown",
   "id": "76835e26",
   "metadata": {},
   "source": [
    "Au vue des résultats, nous pouvons conclure qu'il n'y a pas de corrélation entre la variable \"JP_Sales\" et les autres variables qualitatives"
   ]
  },
  {
   "cell_type": "markdown",
   "id": "bb268819",
   "metadata": {},
   "source": [
    "#### 15.5) Corrélation entre la variable \"Other_Sales\" et les variables qualitatives : \"Platform\", \"Genre\", \"Publisher\" et \"Name\""
   ]
  },
  {
   "cell_type": "code",
   "execution_count": 32,
   "id": "a798e137",
   "metadata": {},
   "outputs": [
    {
     "data": {
      "text/html": [
       "<div>\n",
       "<style scoped>\n",
       "    .dataframe tbody tr th:only-of-type {\n",
       "        vertical-align: middle;\n",
       "    }\n",
       "\n",
       "    .dataframe tbody tr th {\n",
       "        vertical-align: top;\n",
       "    }\n",
       "\n",
       "    .dataframe thead th {\n",
       "        text-align: right;\n",
       "    }\n",
       "</style>\n",
       "<table border=\"1\" class=\"dataframe\">\n",
       "  <thead>\n",
       "    <tr style=\"text-align: right;\">\n",
       "      <th></th>\n",
       "      <th>df</th>\n",
       "      <th>sum_sq</th>\n",
       "      <th>mean_sq</th>\n",
       "      <th>F</th>\n",
       "      <th>PR(&gt;F)</th>\n",
       "    </tr>\n",
       "  </thead>\n",
       "  <tbody>\n",
       "    <tr>\n",
       "      <th>Platform</th>\n",
       "      <td>30.0</td>\n",
       "      <td>18.324164</td>\n",
       "      <td>0.610805</td>\n",
       "      <td>17.638025</td>\n",
       "      <td>5.174841e-91</td>\n",
       "    </tr>\n",
       "    <tr>\n",
       "      <th>Residual</th>\n",
       "      <td>16509.0</td>\n",
       "      <td>571.707312</td>\n",
       "      <td>0.034630</td>\n",
       "      <td>NaN</td>\n",
       "      <td>NaN</td>\n",
       "    </tr>\n",
       "  </tbody>\n",
       "</table>\n",
       "</div>"
      ],
      "text/plain": [
       "               df      sum_sq   mean_sq          F        PR(>F)\n",
       "Platform     30.0   18.324164  0.610805  17.638025  5.174841e-91\n",
       "Residual  16509.0  571.707312  0.034630        NaN           NaN"
      ]
     },
     "execution_count": 32,
     "metadata": {},
     "output_type": "execute_result"
    }
   ],
   "source": [
    "Dep_O = statsmodels.formula.api.ols('Other_Sales ~ Platform', data=game_sales).fit()\n",
    "result_O = statsmodels.api.stats.anova_lm(Dep_O)\n",
    "\n",
    "result_O"
   ]
  },
  {
   "cell_type": "code",
   "execution_count": 39,
   "id": "6ca8fc88",
   "metadata": {},
   "outputs": [
    {
     "data": {
      "text/html": [
       "<div>\n",
       "<style scoped>\n",
       "    .dataframe tbody tr th:only-of-type {\n",
       "        vertical-align: middle;\n",
       "    }\n",
       "\n",
       "    .dataframe tbody tr th {\n",
       "        vertical-align: top;\n",
       "    }\n",
       "\n",
       "    .dataframe thead th {\n",
       "        text-align: right;\n",
       "    }\n",
       "</style>\n",
       "<table border=\"1\" class=\"dataframe\">\n",
       "  <thead>\n",
       "    <tr style=\"text-align: right;\">\n",
       "      <th></th>\n",
       "      <th>df</th>\n",
       "      <th>sum_sq</th>\n",
       "      <th>mean_sq</th>\n",
       "      <th>F</th>\n",
       "      <th>PR(&gt;F)</th>\n",
       "    </tr>\n",
       "  </thead>\n",
       "  <tbody>\n",
       "    <tr>\n",
       "      <th>Genre</th>\n",
       "      <td>7.0</td>\n",
       "      <td>3.084245</td>\n",
       "      <td>0.440606</td>\n",
       "      <td>12.410153</td>\n",
       "      <td>6.001741e-16</td>\n",
       "    </tr>\n",
       "    <tr>\n",
       "      <th>Residual</th>\n",
       "      <td>16532.0</td>\n",
       "      <td>586.947232</td>\n",
       "      <td>0.035504</td>\n",
       "      <td>NaN</td>\n",
       "      <td>NaN</td>\n",
       "    </tr>\n",
       "  </tbody>\n",
       "</table>\n",
       "</div>"
      ],
      "text/plain": [
       "               df      sum_sq   mean_sq          F        PR(>F)\n",
       "Genre         7.0    3.084245  0.440606  12.410153  6.001741e-16\n",
       "Residual  16532.0  586.947232  0.035504        NaN           NaN"
      ]
     },
     "execution_count": 39,
     "metadata": {},
     "output_type": "execute_result"
    }
   ],
   "source": [
    "Dep_O1 = statsmodels.formula.api.ols('Other_Sales ~ Genre', data=game_sales).fit()\n",
    "result_O1 = statsmodels.api.stats.anova_lm(Dep_O1)\n",
    "\n",
    "result_O1"
   ]
  },
  {
   "cell_type": "code",
   "execution_count": 33,
   "id": "2cf27c3e",
   "metadata": {},
   "outputs": [
    {
     "data": {
      "text/html": [
       "<div>\n",
       "<style scoped>\n",
       "    .dataframe tbody tr th:only-of-type {\n",
       "        vertical-align: middle;\n",
       "    }\n",
       "\n",
       "    .dataframe tbody tr th {\n",
       "        vertical-align: top;\n",
       "    }\n",
       "\n",
       "    .dataframe thead th {\n",
       "        text-align: right;\n",
       "    }\n",
       "</style>\n",
       "<table border=\"1\" class=\"dataframe\">\n",
       "  <thead>\n",
       "    <tr style=\"text-align: right;\">\n",
       "      <th></th>\n",
       "      <th>df</th>\n",
       "      <th>sum_sq</th>\n",
       "      <th>mean_sq</th>\n",
       "      <th>F</th>\n",
       "      <th>PR(&gt;F)</th>\n",
       "    </tr>\n",
       "  </thead>\n",
       "  <tbody>\n",
       "    <tr>\n",
       "      <th>Publisher</th>\n",
       "      <td>577.0</td>\n",
       "      <td>28.225875</td>\n",
       "      <td>0.048918</td>\n",
       "      <td>1.389866</td>\n",
       "      <td>3.229213e-09</td>\n",
       "    </tr>\n",
       "    <tr>\n",
       "      <th>Residual</th>\n",
       "      <td>15962.0</td>\n",
       "      <td>561.805602</td>\n",
       "      <td>0.035196</td>\n",
       "      <td>NaN</td>\n",
       "      <td>NaN</td>\n",
       "    </tr>\n",
       "  </tbody>\n",
       "</table>\n",
       "</div>"
      ],
      "text/plain": [
       "                df      sum_sq   mean_sq         F        PR(>F)\n",
       "Publisher    577.0   28.225875  0.048918  1.389866  3.229213e-09\n",
       "Residual   15962.0  561.805602  0.035196       NaN           NaN"
      ]
     },
     "execution_count": 33,
     "metadata": {},
     "output_type": "execute_result"
    }
   ],
   "source": [
    "Dep_O2 = statsmodels.formula.api.ols('Other_Sales ~ Publisher', data=game_sales).fit()\n",
    "result_O2 = statsmodels.api.stats.anova_lm(Dep_O2)\n",
    "\n",
    "result_O2"
   ]
  },
  {
   "cell_type": "code",
   "execution_count": 41,
   "id": "42bb18ba",
   "metadata": {},
   "outputs": [],
   "source": [
    "#Dep_O3 = statsmodels.formula.api.ols('Other_Sales ~ Name', data=game_sales).fit()\n",
    "#result_O3 = statsmodels.api.stats.anova_lm(Dep_O3)\n",
    "\n",
    "#result_O3\n",
    "#Le code rame trop longtemps et fait bugué le notebook"
   ]
  },
  {
   "cell_type": "markdown",
   "id": "7fbaa16d",
   "metadata": {},
   "source": [
    "Au vue des résultats, nous pouvons conclure qu'il n'y a pas de corrélation entre la variable \"Other_Sales\" et les autres variables qualitatives"
   ]
  },
  {
   "cell_type": "markdown",
   "id": "115e0add",
   "metadata": {},
   "source": [
    "#### 15.6) Corrélation entre la variable \"Global_Sales\" et les variables qualitatives : \"Platform\", \"Genre\", \"Publisher\" et \"Name\""
   ]
  },
  {
   "cell_type": "code",
   "execution_count": 34,
   "id": "65ef180b",
   "metadata": {},
   "outputs": [
    {
     "data": {
      "text/html": [
       "<div>\n",
       "<style scoped>\n",
       "    .dataframe tbody tr th:only-of-type {\n",
       "        vertical-align: middle;\n",
       "    }\n",
       "\n",
       "    .dataframe tbody tr th {\n",
       "        vertical-align: top;\n",
       "    }\n",
       "\n",
       "    .dataframe thead th {\n",
       "        text-align: right;\n",
       "    }\n",
       "</style>\n",
       "<table border=\"1\" class=\"dataframe\">\n",
       "  <thead>\n",
       "    <tr style=\"text-align: right;\">\n",
       "      <th></th>\n",
       "      <th>df</th>\n",
       "      <th>sum_sq</th>\n",
       "      <th>mean_sq</th>\n",
       "      <th>F</th>\n",
       "      <th>PR(&gt;F)</th>\n",
       "    </tr>\n",
       "  </thead>\n",
       "  <tbody>\n",
       "    <tr>\n",
       "      <th>Platform</th>\n",
       "      <td>30.0</td>\n",
       "      <td>1447.579997</td>\n",
       "      <td>48.252667</td>\n",
       "      <td>20.600621</td>\n",
       "      <td>9.358994e-109</td>\n",
       "    </tr>\n",
       "    <tr>\n",
       "      <th>Residual</th>\n",
       "      <td>16509.0</td>\n",
       "      <td>38668.896207</td>\n",
       "      <td>2.342292</td>\n",
       "      <td>NaN</td>\n",
       "      <td>NaN</td>\n",
       "    </tr>\n",
       "  </tbody>\n",
       "</table>\n",
       "</div>"
      ],
      "text/plain": [
       "               df        sum_sq    mean_sq          F         PR(>F)\n",
       "Platform     30.0   1447.579997  48.252667  20.600621  9.358994e-109\n",
       "Residual  16509.0  38668.896207   2.342292        NaN            NaN"
      ]
     },
     "execution_count": 34,
     "metadata": {},
     "output_type": "execute_result"
    }
   ],
   "source": [
    "Dep_G = statsmodels.formula.api.ols('Global_Sales ~ Platform', data=game_sales).fit()\n",
    "result_G = statsmodels.api.stats.anova_lm(Dep_G)\n",
    "\n",
    "result_G"
   ]
  },
  {
   "cell_type": "code",
   "execution_count": 35,
   "id": "f27392d4",
   "metadata": {},
   "outputs": [
    {
     "data": {
      "text/html": [
       "<div>\n",
       "<style scoped>\n",
       "    .dataframe tbody tr th:only-of-type {\n",
       "        vertical-align: middle;\n",
       "    }\n",
       "\n",
       "    .dataframe tbody tr th {\n",
       "        vertical-align: top;\n",
       "    }\n",
       "\n",
       "    .dataframe thead th {\n",
       "        text-align: right;\n",
       "    }\n",
       "</style>\n",
       "<table border=\"1\" class=\"dataframe\">\n",
       "  <thead>\n",
       "    <tr style=\"text-align: right;\">\n",
       "      <th></th>\n",
       "      <th>df</th>\n",
       "      <th>sum_sq</th>\n",
       "      <th>mean_sq</th>\n",
       "      <th>F</th>\n",
       "      <th>PR(&gt;F)</th>\n",
       "    </tr>\n",
       "  </thead>\n",
       "  <tbody>\n",
       "    <tr>\n",
       "      <th>Genre</th>\n",
       "      <td>6.0</td>\n",
       "      <td>88.111088</td>\n",
       "      <td>14.685181</td>\n",
       "      <td>6.065451</td>\n",
       "      <td>0.000002</td>\n",
       "    </tr>\n",
       "    <tr>\n",
       "      <th>Residual</th>\n",
       "      <td>16533.0</td>\n",
       "      <td>40028.365115</td>\n",
       "      <td>2.421119</td>\n",
       "      <td>NaN</td>\n",
       "      <td>NaN</td>\n",
       "    </tr>\n",
       "  </tbody>\n",
       "</table>\n",
       "</div>"
      ],
      "text/plain": [
       "               df        sum_sq    mean_sq         F    PR(>F)\n",
       "Genre         6.0     88.111088  14.685181  6.065451  0.000002\n",
       "Residual  16533.0  40028.365115   2.421119       NaN       NaN"
      ]
     },
     "execution_count": 35,
     "metadata": {},
     "output_type": "execute_result"
    }
   ],
   "source": [
    "Dep_G1 = statsmodels.formula.api.ols('Global_Sales ~ Genre', data=game_sales).fit()\n",
    "result_G1 = statsmodels.api.stats.anova_lm(Dep_G1)\n",
    "\n",
    "result_G1"
   ]
  },
  {
   "cell_type": "code",
   "execution_count": 36,
   "id": "1bcb1c28",
   "metadata": {},
   "outputs": [
    {
     "data": {
      "text/html": [
       "<div>\n",
       "<style scoped>\n",
       "    .dataframe tbody tr th:only-of-type {\n",
       "        vertical-align: middle;\n",
       "    }\n",
       "\n",
       "    .dataframe tbody tr th {\n",
       "        vertical-align: top;\n",
       "    }\n",
       "\n",
       "    .dataframe thead th {\n",
       "        text-align: right;\n",
       "    }\n",
       "</style>\n",
       "<table border=\"1\" class=\"dataframe\">\n",
       "  <thead>\n",
       "    <tr style=\"text-align: right;\">\n",
       "      <th></th>\n",
       "      <th>df</th>\n",
       "      <th>sum_sq</th>\n",
       "      <th>mean_sq</th>\n",
       "      <th>F</th>\n",
       "      <th>PR(&gt;F)</th>\n",
       "    </tr>\n",
       "  </thead>\n",
       "  <tbody>\n",
       "    <tr>\n",
       "      <th>Publisher</th>\n",
       "      <td>577.0</td>\n",
       "      <td>4392.742853</td>\n",
       "      <td>7.613073</td>\n",
       "      <td>3.401656</td>\n",
       "      <td>2.852573e-138</td>\n",
       "    </tr>\n",
       "    <tr>\n",
       "      <th>Residual</th>\n",
       "      <td>15962.0</td>\n",
       "      <td>35723.733350</td>\n",
       "      <td>2.238049</td>\n",
       "      <td>NaN</td>\n",
       "      <td>NaN</td>\n",
       "    </tr>\n",
       "  </tbody>\n",
       "</table>\n",
       "</div>"
      ],
      "text/plain": [
       "                df        sum_sq   mean_sq         F         PR(>F)\n",
       "Publisher    577.0   4392.742853  7.613073  3.401656  2.852573e-138\n",
       "Residual   15962.0  35723.733350  2.238049       NaN            NaN"
      ]
     },
     "execution_count": 36,
     "metadata": {},
     "output_type": "execute_result"
    }
   ],
   "source": [
    "Dep_G2 = statsmodels.formula.api.ols('Global_Sales ~ Publisher', data=game_sales).fit()\n",
    "result_G2 = statsmodels.api.stats.anova_lm(Dep_G2)\n",
    "\n",
    "result_G2"
   ]
  },
  {
   "cell_type": "code",
   "execution_count": 45,
   "id": "46715404",
   "metadata": {},
   "outputs": [],
   "source": [
    "#Dep_G3 = statsmodels.formula.api.ols('Global_Sales ~ Name', data=game_sales).fit()\n",
    "#result_G3 = statsmodels.api.stats.anova_lm(Dep_G3)\n",
    "\n",
    "#result_G3\n",
    "#Le code rame trop longtemps et fait bugué le notebook"
   ]
  },
  {
   "cell_type": "markdown",
   "id": "3411f18b",
   "metadata": {},
   "source": [
    "Au vue des résultats, nous pouvons conclure qu'il n'y a pas de corrélation entre la variable \"Global_Sales\" et les autres variables qualitatives"
   ]
  },
  {
   "cell_type": "markdown",
   "id": "0e61d47d",
   "metadata": {},
   "source": [
    "Les variables continues et les variables catégorielles sont indépendantes les unes des autres."
   ]
  },
  {
   "cell_type": "markdown",
   "id": "dc974296",
   "metadata": {},
   "source": [
    "## 16. Corrélation des variables qualitatives (test de khi2)"
   ]
  },
  {
   "cell_type": "markdown",
   "id": "79d2eb02",
   "metadata": {},
   "source": [
    "#### 16.1) Corrélation entre \"Name\" et \"Platform\""
   ]
  },
  {
   "cell_type": "code",
   "execution_count": 37,
   "id": "a5b44616",
   "metadata": {},
   "outputs": [
    {
     "name": "stdout",
     "output_type": "stream",
     "text": [
      "377489.75789956166 0.0 343230\n"
     ]
    }
   ],
   "source": [
    "# H0 : La proportion du nombre de jeu est indépendante du nombre de console\n",
    "# Ha : La proportion du nombre de jeu est associé du nombre de console \n",
    "table =pd.crosstab(game_sales[\"Name\"], game_sales[\"Platform\"])\n",
    "test=chi2_contingency(table)\n",
    "statistique = test[0]\n",
    "pvalue=test[1]\n",
    "degre = test[2]\n",
    "print(statistique, pvalue, degre)"
   ]
  },
  {
   "cell_type": "markdown",
   "id": "eea1fc6c",
   "metadata": {},
   "source": [
    "La pvalue est inférieur à 0.05 donc il n'y a pas de lien entre les deux variables"
   ]
  },
  {
   "cell_type": "markdown",
   "id": "8bbe4156",
   "metadata": {},
   "source": [
    "#### 16.2) Corrélation entre \"Name\" et \"Genre\""
   ]
  },
  {
   "cell_type": "code",
   "execution_count": 38,
   "id": "238c7b7f",
   "metadata": {},
   "outputs": [
    {
     "name": "stdout",
     "output_type": "stream",
     "text": [
      "99207.74843220272 0.0 68646\n"
     ]
    }
   ],
   "source": [
    "# H0 : La proportion du nombre de jeu est indépendante du nombre de genre\n",
    "# Ha : La proportion du nombre de jeu est associé au nombre de genre\n",
    "table1 =pd.crosstab(game_sales[\"Name\"], game_sales[\"Genre\"])\n",
    "test1=chi2_contingency(table1)\n",
    "statistique = test1[0]\n",
    "pvalue=test1[1]\n",
    "degre = test1[2]\n",
    "print(statistique, pvalue, degre)\n"
   ]
  },
  {
   "cell_type": "markdown",
   "id": "d70a8880",
   "metadata": {},
   "source": [
    "La pvalue est inférieur à 0.05 donc il n'y a pas de lien entre les deux variables"
   ]
  },
  {
   "cell_type": "markdown",
   "id": "6155e79f",
   "metadata": {},
   "source": [
    "#### 16.3) Corrélation entre \"Name\" et \"Publisher\""
   ]
  },
  {
   "cell_type": "code",
   "execution_count": 39,
   "id": "a588ccc0",
   "metadata": {},
   "outputs": [
    {
     "name": "stdout",
     "output_type": "stream",
     "text": [
      "9110044.808822475 0.0 6601457\n"
     ]
    }
   ],
   "source": [
    "# H0 : La proportion du nombre de jeu est indépendante du nombre de studio\n",
    "# Ha : La proportion du nombre de jeu est associé au nombre de studio\n",
    "table2 =pd.crosstab(game_sales[\"Name\"], game_sales[\"Publisher\"])\n",
    "test2=chi2_contingency(table2)\n",
    "statistique = test2[0]\n",
    "pvalue=test2[1]\n",
    "degre = test2[2]\n",
    "print(statistique, pvalue, degre)"
   ]
  },
  {
   "cell_type": "markdown",
   "id": "cb4f2893",
   "metadata": {},
   "source": [
    "La pvalue est inférieur à 0.05 donc il n'y a pas de lien entre les deux variables"
   ]
  },
  {
   "cell_type": "markdown",
   "id": "6e364235",
   "metadata": {},
   "source": [
    "#### 16.4) Corrélation entre \"Platform\" et \"Genre\""
   ]
  },
  {
   "cell_type": "code",
   "execution_count": 40,
   "id": "516e52f8",
   "metadata": {},
   "outputs": [
    {
     "name": "stdout",
     "output_type": "stream",
     "text": [
      "377489.75789956166 0.0 343230\n"
     ]
    }
   ],
   "source": [
    "# H0 : La proportion du nombre de console est indépendante du nombre de genre\n",
    "# Ha : La proportion du nombre de console est associé au nombre de genre \n",
    "table3 =pd.crosstab(game_sales[\"Platform\"], game_sales[\"Genre\"])\n",
    "test3=chi2_contingency(table)\n",
    "statistique = test3[0]\n",
    "pvalue=test3[1]\n",
    "degre = test3[2]\n",
    "print(statistique, pvalue, degre)"
   ]
  },
  {
   "cell_type": "markdown",
   "id": "ea49ba70",
   "metadata": {},
   "source": [
    "La pvalue est inférieur à 0.05 donc il n'y a pas de lien entre les deux variables"
   ]
  },
  {
   "cell_type": "markdown",
   "id": "627a7e22",
   "metadata": {},
   "source": [
    "#### 16.5) Corrélation entre \"Platform\" et \"Publisher\""
   ]
  },
  {
   "cell_type": "code",
   "execution_count": 41,
   "id": "43d44e8e",
   "metadata": {},
   "outputs": [
    {
     "name": "stdout",
     "output_type": "stream",
     "text": [
      "377489.75789956166 0.0 343230\n"
     ]
    }
   ],
   "source": [
    "# H0 : La proportion du nombre de console est indépendante du nombre de studio\n",
    "# Ha : La proportion du nombre de console est associé au nombre de studio \n",
    "table4 =pd.crosstab(game_sales[\"Platform\"], game_sales[\"Publisher\"])\n",
    "test4=chi2_contingency(table)\n",
    "statistique = test4[0]\n",
    "pvalue=test4[1]\n",
    "degre = test4[2]\n",
    "print(statistique, pvalue, degre)"
   ]
  },
  {
   "cell_type": "markdown",
   "id": "34462c01",
   "metadata": {},
   "source": [
    "La pvalue est inférieur à 0.05 donc il n'y a pas de lien entre les deux variables"
   ]
  },
  {
   "cell_type": "markdown",
   "id": "b265e29d",
   "metadata": {},
   "source": [
    "#### 16.6) Corrélation entre \"Genre\" et \"Publisher\""
   ]
  },
  {
   "cell_type": "code",
   "execution_count": 42,
   "id": "3eaef1cb",
   "metadata": {},
   "outputs": [
    {
     "name": "stdout",
     "output_type": "stream",
     "text": [
      "377489.75789956166 0.0 343230\n"
     ]
    }
   ],
   "source": [
    "# H0 : La proportion de genre est indépendante du nombre de studio\n",
    "# Ha : La proportion de genre est associé au nombre de studio\n",
    "table4=pd.crosstab(game_sales[\"Genre\"], game_sales[\"Publisher\"])\n",
    "test4=chi2_contingency(table)\n",
    "statistique = test4[0]\n",
    "pvalue=test4[1]\n",
    "degre = test4[2]\n",
    "print(statistique, pvalue, degre)"
   ]
  },
  {
   "cell_type": "markdown",
   "id": "8d0bddc3",
   "metadata": {},
   "source": [
    "La pvalue est inférieur à 0.05 donc il n'y a pas de lien entre les deux variables"
   ]
  },
  {
   "cell_type": "markdown",
   "id": "c7c6d502",
   "metadata": {},
   "source": [
    "Les variables catégorielles sont indépendantes entres-elles."
   ]
  },
  {
   "cell_type": "markdown",
   "id": "62ec8388",
   "metadata": {},
   "source": [
    "## 17. Fichier nettoyé"
   ]
  },
  {
   "cell_type": "code",
   "execution_count": 43,
   "id": "101a247d",
   "metadata": {},
   "outputs": [],
   "source": [
    "game_sales.to_csv(\"vgsales_clean.csv\", index=False)"
   ]
  },
  {
   "cell_type": "code",
   "execution_count": 44,
   "id": "85b7adcd",
   "metadata": {},
   "outputs": [
    {
     "data": {
      "text/html": [
       "<div>\n",
       "<style scoped>\n",
       "    .dataframe tbody tr th:only-of-type {\n",
       "        vertical-align: middle;\n",
       "    }\n",
       "\n",
       "    .dataframe tbody tr th {\n",
       "        vertical-align: top;\n",
       "    }\n",
       "\n",
       "    .dataframe thead th {\n",
       "        text-align: right;\n",
       "    }\n",
       "</style>\n",
       "<table border=\"1\" class=\"dataframe\">\n",
       "  <thead>\n",
       "    <tr style=\"text-align: right;\">\n",
       "      <th></th>\n",
       "      <th>Name</th>\n",
       "      <th>Platform</th>\n",
       "      <th>Year</th>\n",
       "      <th>Genre</th>\n",
       "      <th>Publisher</th>\n",
       "      <th>NA_Sales</th>\n",
       "      <th>EU_Sales</th>\n",
       "      <th>JP_Sales</th>\n",
       "      <th>Other_Sales</th>\n",
       "      <th>Global_Sales</th>\n",
       "    </tr>\n",
       "  </thead>\n",
       "  <tbody>\n",
       "    <tr>\n",
       "      <th>0</th>\n",
       "      <td>Wii Sports</td>\n",
       "      <td>Wii</td>\n",
       "      <td>2006</td>\n",
       "      <td>Sports</td>\n",
       "      <td>Nintendo</td>\n",
       "      <td>41.49</td>\n",
       "      <td>29.02</td>\n",
       "      <td>3.77</td>\n",
       "      <td>8.46</td>\n",
       "      <td>82.74</td>\n",
       "    </tr>\n",
       "    <tr>\n",
       "      <th>1</th>\n",
       "      <td>Super Mario Bros.</td>\n",
       "      <td>NES</td>\n",
       "      <td>1985</td>\n",
       "      <td>Adventure</td>\n",
       "      <td>Nintendo</td>\n",
       "      <td>29.08</td>\n",
       "      <td>3.58</td>\n",
       "      <td>6.81</td>\n",
       "      <td>0.77</td>\n",
       "      <td>40.24</td>\n",
       "    </tr>\n",
       "    <tr>\n",
       "      <th>2</th>\n",
       "      <td>Mario Kart Wii</td>\n",
       "      <td>Wii</td>\n",
       "      <td>2008</td>\n",
       "      <td>Racing</td>\n",
       "      <td>Nintendo</td>\n",
       "      <td>15.85</td>\n",
       "      <td>12.88</td>\n",
       "      <td>3.79</td>\n",
       "      <td>3.31</td>\n",
       "      <td>35.82</td>\n",
       "    </tr>\n",
       "    <tr>\n",
       "      <th>3</th>\n",
       "      <td>Wii Sports Resort</td>\n",
       "      <td>Wii</td>\n",
       "      <td>2009</td>\n",
       "      <td>Sports</td>\n",
       "      <td>Nintendo</td>\n",
       "      <td>15.75</td>\n",
       "      <td>11.01</td>\n",
       "      <td>3.28</td>\n",
       "      <td>2.96</td>\n",
       "      <td>33.00</td>\n",
       "    </tr>\n",
       "    <tr>\n",
       "      <th>4</th>\n",
       "      <td>Pokemon Red/Pokemon Blue</td>\n",
       "      <td>GB</td>\n",
       "      <td>1996</td>\n",
       "      <td>Adventure</td>\n",
       "      <td>Nintendo</td>\n",
       "      <td>11.27</td>\n",
       "      <td>8.89</td>\n",
       "      <td>10.22</td>\n",
       "      <td>1.00</td>\n",
       "      <td>31.37</td>\n",
       "    </tr>\n",
       "    <tr>\n",
       "      <th>...</th>\n",
       "      <td>...</td>\n",
       "      <td>...</td>\n",
       "      <td>...</td>\n",
       "      <td>...</td>\n",
       "      <td>...</td>\n",
       "      <td>...</td>\n",
       "      <td>...</td>\n",
       "      <td>...</td>\n",
       "      <td>...</td>\n",
       "      <td>...</td>\n",
       "    </tr>\n",
       "    <tr>\n",
       "      <th>16535</th>\n",
       "      <td>Woody Woodpecker in Crazy Castle 5</td>\n",
       "      <td>GBA</td>\n",
       "      <td>2002</td>\n",
       "      <td>Adventure</td>\n",
       "      <td>Kemco</td>\n",
       "      <td>0.01</td>\n",
       "      <td>0.00</td>\n",
       "      <td>0.00</td>\n",
       "      <td>0.00</td>\n",
       "      <td>0.01</td>\n",
       "    </tr>\n",
       "    <tr>\n",
       "      <th>16536</th>\n",
       "      <td>Men in Black II: Alien Escape</td>\n",
       "      <td>GC</td>\n",
       "      <td>2003</td>\n",
       "      <td>Action</td>\n",
       "      <td>Infogrames</td>\n",
       "      <td>0.01</td>\n",
       "      <td>0.00</td>\n",
       "      <td>0.00</td>\n",
       "      <td>0.00</td>\n",
       "      <td>0.01</td>\n",
       "    </tr>\n",
       "    <tr>\n",
       "      <th>16537</th>\n",
       "      <td>SCORE International Baja 1000: The Official Game</td>\n",
       "      <td>PS2</td>\n",
       "      <td>2008</td>\n",
       "      <td>Racing</td>\n",
       "      <td>Activision</td>\n",
       "      <td>0.00</td>\n",
       "      <td>0.00</td>\n",
       "      <td>0.00</td>\n",
       "      <td>0.00</td>\n",
       "      <td>0.01</td>\n",
       "    </tr>\n",
       "    <tr>\n",
       "      <th>16538</th>\n",
       "      <td>Know How 2</td>\n",
       "      <td>DS</td>\n",
       "      <td>2010</td>\n",
       "      <td>Strategy</td>\n",
       "      <td>7G//AMES</td>\n",
       "      <td>0.00</td>\n",
       "      <td>0.01</td>\n",
       "      <td>0.00</td>\n",
       "      <td>0.00</td>\n",
       "      <td>0.01</td>\n",
       "    </tr>\n",
       "    <tr>\n",
       "      <th>16539</th>\n",
       "      <td>Spirits &amp; Spells</td>\n",
       "      <td>GBA</td>\n",
       "      <td>2003</td>\n",
       "      <td>Adventure</td>\n",
       "      <td>Wanadoo</td>\n",
       "      <td>0.01</td>\n",
       "      <td>0.00</td>\n",
       "      <td>0.00</td>\n",
       "      <td>0.00</td>\n",
       "      <td>0.01</td>\n",
       "    </tr>\n",
       "  </tbody>\n",
       "</table>\n",
       "<p>16540 rows × 10 columns</p>\n",
       "</div>"
      ],
      "text/plain": [
       "                                                   Name Platform  Year  \\\n",
       "0                                            Wii Sports      Wii  2006   \n",
       "1                                     Super Mario Bros.      NES  1985   \n",
       "2                                        Mario Kart Wii      Wii  2008   \n",
       "3                                     Wii Sports Resort      Wii  2009   \n",
       "4                              Pokemon Red/Pokemon Blue       GB  1996   \n",
       "...                                                 ...      ...   ...   \n",
       "16535                Woody Woodpecker in Crazy Castle 5      GBA  2002   \n",
       "16536                     Men in Black II: Alien Escape       GC  2003   \n",
       "16537  SCORE International Baja 1000: The Official Game      PS2  2008   \n",
       "16538                                        Know How 2       DS  2010   \n",
       "16539                                  Spirits & Spells      GBA  2003   \n",
       "\n",
       "           Genre   Publisher  NA_Sales  EU_Sales  JP_Sales  Other_Sales  \\\n",
       "0         Sports    Nintendo     41.49     29.02      3.77         8.46   \n",
       "1      Adventure    Nintendo     29.08      3.58      6.81         0.77   \n",
       "2         Racing    Nintendo     15.85     12.88      3.79         3.31   \n",
       "3         Sports    Nintendo     15.75     11.01      3.28         2.96   \n",
       "4      Adventure    Nintendo     11.27      8.89     10.22         1.00   \n",
       "...          ...         ...       ...       ...       ...          ...   \n",
       "16535  Adventure       Kemco      0.01      0.00      0.00         0.00   \n",
       "16536     Action  Infogrames      0.01      0.00      0.00         0.00   \n",
       "16537     Racing  Activision      0.00      0.00      0.00         0.00   \n",
       "16538   Strategy    7G//AMES      0.00      0.01      0.00         0.00   \n",
       "16539  Adventure     Wanadoo      0.01      0.00      0.00         0.00   \n",
       "\n",
       "       Global_Sales  \n",
       "0             82.74  \n",
       "1             40.24  \n",
       "2             35.82  \n",
       "3             33.00  \n",
       "4             31.37  \n",
       "...             ...  \n",
       "16535          0.01  \n",
       "16536          0.01  \n",
       "16537          0.01  \n",
       "16538          0.01  \n",
       "16539          0.01  \n",
       "\n",
       "[16540 rows x 10 columns]"
      ]
     },
     "execution_count": 44,
     "metadata": {},
     "output_type": "execute_result"
    }
   ],
   "source": [
    "new_gs = pd.read_csv(\"vgsales_clean.csv\")\n",
    "new_gs"
   ]
  }
 ],
 "metadata": {
  "kernelspec": {
   "display_name": "Python 3",
   "language": "python",
   "name": "python3"
  },
  "language_info": {
   "codemirror_mode": {
    "name": "ipython",
    "version": 3
   },
   "file_extension": ".py",
   "mimetype": "text/x-python",
   "name": "python",
   "nbconvert_exporter": "python",
   "pygments_lexer": "ipython3",
   "version": "3.8.8"
  }
 },
 "nbformat": 4,
 "nbformat_minor": 5
}
